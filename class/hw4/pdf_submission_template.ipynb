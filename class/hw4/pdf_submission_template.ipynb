{
 "cells": [
  {
   "cell_type": "markdown",
   "id": "expired-modification",
   "metadata": {
    "deletable": false,
    "editable": false,
    "nbgrader": {
     "cell_type": "markdown",
     "checksum": "90d6d6a6e781d4183b528544a2045ee4",
     "grade": false,
     "grade_id": "q1-note2",
     "locked": true,
     "schema_version": 3,
     "solution": false,
     "task": false
    }
   },
   "source": [
    "## Question 1: Homography Theory\n",
    "\n",
    "Suppose we have two cameras $\\mathbf{C}_1$ and $\\mathbf{C}_2$ looking at a common plane $\\Pi$ in 3D space.  Any 3D point $\\mathbf{P}$ on $\\Pi$ generates a\n",
    "projected 2D point located at $\\mathbf{p} \\equiv (u_1,v_1,1)^T$ on the first\n",
    "camera $\\mathbf{C}_1$ and $\\mathbf{q} \\equiv (u_2,v_2,1)^T$ on the second camera\n",
    "$\\mathbf{C}_2$.  Since $\\mathbf{P}$ is confined to the plane $\\Pi$, we expect\n",
    "that there is a relationship between $\\mathbf{p}$ and $\\mathbf{q}$.  In\n",
    "particular, there exists a common 3 $\\times$ 3 matrix $\\mathbf{H}$, so that for\n",
    "any $\\mathbf{p}$ and $\\mathbf{q}$, the following conditions holds:\n",
    "\\begin{equation}\n",
    "\\mathbf{p \\equiv Hq}\n",
    "\\label{eq:homography}\n",
    "\\end{equation}\n",
    "We call this relationship **planar homography**.  Recall that both\n",
    "$\\mathbf{p}$ and $\\mathbf{q}$ are in homogeneous coordinates and the equality\n",
    "$\\equiv$ means $\\mathbf{p}$ is proportional to $\\mathbf{Hq}$ (recall homogeneous\n",
    "coordinates).  It turns out this\n",
    "relationship is also true for cameras that are related by pure rotation without the planar constraint."
   ]
  },
  {
   "cell_type": "markdown",
   "id": "manual-trail",
   "metadata": {
    "deletable": false,
    "editable": false,
    "nbgrader": {
     "cell_type": "markdown",
     "checksum": "84867b1201d44d40d53b2f2bca681d99",
     "grade": false,
     "grade_id": "q1-note3",
     "locked": true,
     "schema_version": 3,
     "solution": false,
     "task": false
    }
   },
   "source": [
    "### 1.1 Homography (5 points)\n",
    "\n",
    "Prove that there exists an $\\mathbf{H}$ that\n",
    "satisfies $\\mathbf{p \\equiv Hq}$ given two ${3 \\times 4}$ camera projection\n",
    "matrices $\\mathbf{M_1}$ and $\\mathbf{M_2}$ corresponding to cameras\n",
    "$\\mathbf{C_1}$, $\\mathbf{C_2}$ and a plane $\\Pi$.  Do not produce an actual\n",
    "algebraic expression for $\\mathbf{H}$.  All we are asking for is a proof of\n",
    "the existence of $\\mathbf{H}$.\n",
    "\n",
    "*Note: A degenerate case may happen when the\n",
    "plane $\\Pi$ contains both cameras' centers, in which case there are infinite\n",
    "choices of $\\mathbf{H}$ satisfying $\\mathbf{p \\equiv Hq}$.  You can\n",
    "ignore this case in your answer.*"
   ]
  },
  {
   "cell_type": "markdown",
   "id": "wired-mainstream",
   "metadata": {},
   "source": [
    "---\n",
    "\n",
    "(Talked through this with Paritosh at OH)\n",
    "\n",
    "As always seems to be the case for these sort of \"relationship under constraint\" problems, the important piece of of the puzzle seems to be figuring how to apply the constraint to the basic problem. In our case we want to adjust the equations $M_1 P = p$ and $M_2 P = q$ such that $M_1$ and $M_2$ can be moved to the opposite side, preferably as invertible $3 \\times 3$ matrices.\n",
    "\n",
    "The crucial part to this problem is that, in the world coordinates, $P$ is of the form $\\begin{bmatrix} X & Y & Z & 1 \\end{bmatrix}^T$. It is a vector of length 4. However, we can can carefully choose a rigid transform for our coordinates in 3D space so that all of the points in the plane can be represented with two in-plane vectors, and the $Z$ value for all plane points is 0 for our transformed system. Thus $P^* = \\begin{bmatrix} X' & Y' & 0 & 1 \\end{bmatrix}^T$, where $X'$ and $Y'$ represent the point location in our transformed coordinates. Let $M_1^*$ and $M_2^*$ be the $M$ matrices with this rigid transform factored into the extrinsic matrix.\n",
    "\n",
    "At this point, in the equations $M_1^* P^* = p$ and $M_2^* P^* = q$, we have an entirely useless column of the $M$ matrices. Because of the zero in $P'$ it's effectively as if the third column of $M$ and the third element in $P^*$ (0) were just dropped entirely. Let's call $M_1'$ and $M_2'$ the matrices with the third column dropped, so now they are $3 \\times 3$ matrices. $P'$ will be the $P^*$ vector with the zero element dropped. Assuming for now that the matrices are invertible, we can formulate our homography:\n",
    "\n",
    "\\begin{align*}\n",
    "    M_1'^{-1} p  &= P' = M_2'^{-1} q \\\\\n",
    "    p &= M_1' M_2'^{-1} q \\\\\n",
    "    p &= H q  && \\text{Collapse to a single $3 \\times 3$ matrix, which takes the $H$ relationship} \\\\\n",
    "\\end{align*}\n",
    "\n",
    "At this point we have shown that a homography exists (assuming $M$'s are invertible) but we haven't actually calculated how to get it. The missing step is from $M$ to $M*$, we know that sort of coordinate transform is always possible with a plane but we didn't how how to do it. That's fine, we'll leave it like that for this problem.\n",
    "\n",
    "We assumed above that the $M$ matrices were invertible. Are they always? It appears that unless the cameras are on the same plane as the point $P$ then we are fine, the matrices invert. A common-sense way to think about this is to think about the operation $M_1'^{-1} p = P'$, which is a 2D to 3D projection onto a plane. If the camera is on the plane that operation doesn't make sense, but in all other cases you can imagine tracining a point from an arbitrary camera onto the given plane.\n",
    "\n",
    "TODO: Cogitate more deeply on this part.\n",
    "\n",
    "M will not be full rank if the camera is on the plane of the point? See what happens\n",
    "\n",
    "---"
   ]
  },
  {
   "cell_type": "markdown",
   "id": "living-tanzania",
   "metadata": {
    "deletable": false,
    "editable": false,
    "nbgrader": {
     "cell_type": "markdown",
     "checksum": "6e57a9900a6e42308160ffe52f855eac",
     "grade": false,
     "grade_id": "q1-note4",
     "locked": true,
     "schema_version": 3,
     "solution": false,
     "task": false
    }
   },
   "source": [
    "### 1.2 Homography under rotation (5 points)\n",
    "\n",
    "Prove that there exists a homography $\\mathbf{H}$ that satisfies $\\mathbf{p_1} \\equiv \\mathbf{Hp_2}$, given two cameras separated by a pure rotation. That is, for camera 1, $\\mathbf{p_1} = \\mathbf{K_1} \\begin{bmatrix} \\mathbf{I} & \\mathbf{0} \\end{bmatrix} \\mathbf{P}$ and for camera 2, $\\mathbf{p_2} = \\mathbf{K_2} \\begin{bmatrix}\\mathbf{R} & \\mathbf{0} \\end{bmatrix} \\mathbf{P}$. Note that $\\mathbf{K_1}$ and $\\mathbf{K_2}$ are the $3 \\times 3$ intrinsic matrices of the two cameras and are different. $\\mathbf{I}$ is $3 \\times 3$ identity matrix, $\\mathbf{0}$ is a $3\\times1$ zero vector and $\\mathbf{P}$ is the homogeneous coordinate of a point in 3D space. $\\mathbf{R}$ is the $3 \\times 3$ rotation matrix of the camera."
   ]
  },
  {
   "cell_type": "markdown",
   "id": "noted-movement",
   "metadata": {},
   "source": [
    "---\n",
    "\n",
    "Let's first look at $p_1$\n",
    "\n",
    "\\begin{align*}\n",
    "p_1 & \\equiv K_1 \\begin{bmatrix} I & 0 \\end{bmatrix} P \\\\\n",
    "K_1^{-1} p_1 & \\equiv \\begin{bmatrix} I & 0 \\end{bmatrix} P  && \\text{$3 \\times 3$, full rank, invertible} \\\\\n",
    "& \\equiv P_{1,2,3}  && \\text{$P$ started as $4 \\times 1$, last element is zeroed out} \\\\\n",
    "\\end{align*}\n",
    "\n",
    "Something important happened there, where $\\begin{bmatrix} I & 0 \\end{bmatrix} P$ was substituted for $P_{1, 2, 3}$. The last element in $P$ was dropped. This is a reasonable operation because no matter what the last column of $P$ is it will be wiped out by that zero column in $\\begin{bmatrix} I & 0 \\end{bmatrix}$. Then we do a similar operation for $p_2$.\n",
    "\n",
    "\\begin{align*}\n",
    "p_2 & \\equiv K_2 \\begin{bmatrix} R & 0 \\end{bmatrix} P \\\\\n",
    "K_2^{-1} p_2 & \\equiv \\begin{bmatrix} R & 0 \\end{bmatrix} P  && \\text{$3 \\times 3$, full rank, invertible} \\\\\n",
    "& \\equiv R P_{1,2,3}  && \\text{$P$ started as $4 \\times 1$, last element is zeroed out} \\\\\n",
    "R^T K_2^{-1} p_2 & \\equiv P_{1,2,3}  && \\text{Orthonormal rotation matrices can be inverted with $R^T$} \\\\\n",
    "\\end{align*}\n",
    "\n",
    "Then put them together\n",
    "\\begin{align*}\n",
    "P_{1,2,3} &= P_{1,2,3} \\\\\n",
    "K_1^{-1} p_1 & \\equiv R^T K_2^{-1} p_2 \\\\\n",
    "p_1 & \\equiv K_1 R^T K_2^{-1} p_2 \\\\\n",
    "\\end{align*}\n",
    "\n",
    "Since all the matrices here are $3 \\times 3$, we can collapse everything to the form $p_1 \\equiv H p_2$.\n",
    "\n",
    "---"
   ]
  },
  {
   "cell_type": "markdown",
   "id": "collect-lease",
   "metadata": {
    "deletable": false,
    "editable": false,
    "nbgrader": {
     "cell_type": "markdown",
     "checksum": "ed7c9db6948ddb8877b01a20f4925db2",
     "grade": false,
     "grade_id": "q1-note5",
     "locked": true,
     "schema_version": 3,
     "solution": false,
     "task": false
    }
   },
   "source": [
    "### 1.3 Correspondences (10 points)\n",
    "\n",
    "Let $\\mathbf{x_1}$ be a set of points in an image and $\\mathbf{x_2}$ be the set of corresponding points in an image taken by another camera. Suppose there exists a homography $\\mathbf{H}$ such that:\n",
    "$\\mathbf{x^i_1} \\equiv \\mathbf{Hx^i_2}\\quad(i \\in \\{1\\dots N\\})$\n",
    "where $\\mathbf{x^i_1} = \\left[\\begin{matrix}x^i_1 & y^i_1 & 1\\end{matrix}\\right]^T$ are in homogenous coordinates, $\\mathbf{x_1^i \\in \\mathbf{x_1}}$ and $\\mathbf{H}$ is a $3 \\times 3$ matrix. For each point pair, this relation can be rewritten as\n",
    "\\begin{equation*}\n",
    "\\mathbf{A_ih} = 0\n",
    "\\end{equation*}\n",
    "where $\\mathbf{h}$ is a column vector reshaped from $\\mathbf{H}$, and $\\mathbf{A_i}$ is a matrix with elements derived from the points $\\mathbf{x^i_1}$ and $\\mathbf{x^i_2}$. This can help calculate **H** from the given point correspondences.\n",
    "\n",
    "   - How many degrees of freedom does $\\mathbf{h}$ have? (3 points)\n",
    "\n",
    "   - How many point pairs are required to solve $\\mathbf{h}$? (2 points)\n",
    "\n",
    "   - Derive $\\mathbf{A_i}$. (5 points)"
   ]
  },
  {
   "cell_type": "markdown",
   "id": "intensive-geneva",
   "metadata": {},
   "source": [
    "---\n",
    "\n",
    "### How many degrees of freedom does $\\mathbf{h}$ have?\n",
    "\n",
    "This is simple, it's something we went over in class. A homography matrix has 9 elements ($3 \\times 3$ matrix) but homographies represent the same operation even with an arbitrary scaling term applied. Therefore we take away a degree of freedom, and $\\mathbf{H}$ matrices will have 8 degrees of freedom. Since $\\mathbf{h}$ is just a flattening of $\\mathbf{H}$, it also has 8 DOF.\n",
    "\n",
    "### How many point pairs are required to solve $\\mathbf{h}$?\n",
    "\n",
    "As we'll see when building $\\mathbf{A}_\\mathbf{i}$, each point will give us two equations. Since we have 8 DOF, and each point pair provides two equations, then we need four point pairs to solve for $\\mathbf{h}$.\n",
    "\n",
    "### Derive $\\mathbf{A}_\\mathbf{i}$\n",
    "\n",
    "This is simple, almost exactly something we walked through in class. I'll walk through the steps. First, let's define $H$ in terms of its rows:\n",
    "\n",
    "\\begin{align*}\n",
    "    H &= \\begin{bmatrix}\n",
    "        h_1 & h_2 & h_3 \\\\\n",
    "        h_4 & h_5 & h_6 \\\\\n",
    "        h_7 & h_8 & h_9 \\\\\n",
    "    \\end{bmatrix}\n",
    "    = \\begin{bmatrix}\n",
    "        p_1^T \\\\\n",
    "        p_2^T \\\\\n",
    "        p_3^T \\\\\n",
    "    \\end{bmatrix}\n",
    "\\end{align*}\n",
    "\n",
    "So we've defined $p_i^T$ as the rows of $H$. Next let's relate the points $x_1^i$ and $x_2^i$ using this homography.\n",
    "\n",
    "\\begin{align*}\n",
    "    x_1^i & \\equiv H x_2^i \\\\\n",
    "    & \\equiv \\begin{bmatrix}\n",
    "        p_1^T \\\\\n",
    "        p_2^T \\\\\n",
    "        p_3^T \\\\\n",
    "    \\end{bmatrix} x_2^i \\\\\n",
    "    &= \\alpha \\begin{bmatrix}\n",
    "        p_1^T \\\\\n",
    "        p_2^T \\\\\n",
    "        p_3^T \\\\\n",
    "    \\end{bmatrix} x_2^i  && \\text{Replace $\\equiv$ with the arbitrary scale factor $alpha$}\n",
    "\\end{align*}\n",
    "\n",
    "Now we have three equations (one per row) but they are equivalences instead of equalities. The trick to removing the scale factor is to take row 1 (includes $\\alpha$) and divide it by row 3 (includes $\\alpha$) to make a single equation. Then repeat that process for row 2 / row 3. That leaves us two equations:\n",
    "\n",
    "\\begin{align*}\n",
    "    x_1'^i &= \\frac{p_1^T x_2^i}{p_3^T x_2^i}  && \\text{$x_1'^i$ is the $x$ component divided by $z$ component of the $x_1^i$ vector} \\\\\n",
    "    0 &= p_1^T x_2^i - p_3^T x_2^i x_1'^i \\\\\n",
    "    y_1'^i &= \\frac{p_2^T x_2^i}{p_3^T x_2^i}  && \\text{$y_1'^i$ is the $y$ component divided by $z$ component of the $x_1^i$ vector} \\\\\n",
    "    0 &= p_2^T x_2^i - p_3^T x_2^i y_1'^i \\\\\n",
    "\\end{align*}\n",
    "\n",
    "Switched to matrix form, we get two matrix rows from these two equations:\n",
    "\\begin{align*}\n",
    "    \\begin{bmatrix}\n",
    "        x_1^{iT} & \\mathbf{0} & x_2^{iT} x_1'^i \\\\\n",
    "        \\mathbf{0} & x_2^{iT} & x_2^{iT} y_1'^i\n",
    "    \\end{bmatrix}\n",
    "    \\begin{bmatrix} p_1 \\\\ p_2 \\\\ p_3 \\end{bmatrix}\n",
    "    &= \\mathbf{0}  && \\text{$x_1'^i$ and $y_1'^i$ are scalars} \\\\\n",
    "    & && \\text{Matrices are $2 \\times 9$, $9 \\times 1$, and $2 \\times 1$}\n",
    "\\end{align*}\n",
    "\n",
    "In this case, the $2 \\times 9$ matrix on the left-hand side is $\\mathbf{A_i}$, and the $9 \\times 1$ matrix on the right is $\\mathbf{h}$. You can stack $\\mathbf{A}$ higher and higher, two rows for each point pair, and then solve the whole thing with SVD, constrained to not get the trivial solution.\n",
    "\n",
    "---"
   ]
  },
  {
   "cell_type": "markdown",
   "id": "traditional-bathroom",
   "metadata": {
    "deletable": false,
    "editable": false,
    "nbgrader": {
     "cell_type": "markdown",
     "checksum": "21c1f9a3ed29227280c319a060f9a655",
     "grade": false,
     "grade_id": "q1-note6",
     "locked": true,
     "schema_version": 3,
     "solution": false,
     "task": false
    }
   },
   "source": [
    "### 1.4 Understanding homographies under rotation (5 points)\n",
    "\n",
    "Suppose that a camera is rotating about its center $\\mathbf{C}$, keeping the intrinsic parameters $\\mathbf{K}$ constant. Let $\\mathbf{H}$ be the homography that maps the view from one camera orientation to the view at a second orientation. Let $\\theta$ be the angle of rotation between the two. Show that $\\mathbf{H^2}$ is the homography corresponding to a rotation of 2$\\theta$. Please limit your answer within a couple of lines. A lengthy proof indicates that you're doing something too complicated (or wrong)."
   ]
  },
  {
   "cell_type": "markdown",
   "id": "meaningful-affect",
   "metadata": {},
   "source": [
    "---\n",
    "\n",
    "Since $H$ is the homography from one view to the next with angle $\\theta$, regardless of the starting position, then we can choose an arbitrary point homography\n",
    "\n",
    "\\begin{align*}\n",
    "    p = Hq  && \\text{$p$ and $q$ are the image coordinates for $P$ in 3D}\n",
    "\\end{align*}\n",
    "\n",
    "Similarly, if we were to start where the camera mapped $P$ to $q$, and then rotate again by the same homography, we would get a new relationship, where $r$ is the image coordinates for $P$ after another transform.\n",
    "\n",
    "\\begin{align*}\n",
    "    q = Hr\n",
    "\\end{align*}\n",
    "\n",
    "So now if we want to find the transformation from $p$ to $r$ we simply substitute $q$ out of the equation and see that $H^2$ will take us two successive $\\theta$ steps.\n",
    "\n",
    "\\begin{align*}\n",
    "    p = Hq \\\\\n",
    "    p = H(Hr) \\\\\n",
    "    p = H^2 r \\\\\n",
    "\\end{align*}\n",
    "\n",
    "This makes intuitive sense with regards to linear transforms. If you imagine an $R_z$ matrix that rotates by $\\phi$ degrees around the $z$ axis, applying the matrix multiple times results in successive rotations.\n",
    "\n",
    "---"
   ]
  },
  {
   "cell_type": "markdown",
   "id": "dietary-success",
   "metadata": {
    "deletable": false,
    "editable": false,
    "nbgrader": {
     "cell_type": "markdown",
     "checksum": "fc12026419304f939c2764b0ef68890f",
     "grade": false,
     "grade_id": "q1-note7",
     "locked": true,
     "schema_version": 3,
     "solution": false,
     "task": false
    }
   },
   "source": [
    "### 1.5 Limitations of the planar homography (2 points)\n",
    "\n",
    "Why is the planar homography not completely sufficient to map any arbitrary scene image to another viewpoint? State your answer concisely in one or two sentences."
   ]
  },
  {
   "cell_type": "markdown",
   "id": "03534cba-4d31-48c4-81e0-a86aa3c74ff2",
   "metadata": {},
   "source": [
    "---\n",
    "\n",
    "As we saw in problem 1.1, we were only able to solve for the homography by making a simplifying assumption (all points lie on a plane), which allowed us to drop the $3 \\times 4$ matrix down to an equivalent $3 \\times 3$ matrix and move the matrices around to solve for a relationship between image coordinates in different views. Without that planarity assumption (with an arbitrary 3D scene) we cannot get a homography between image coordinates.\n",
    "\n",
    "TODO: Talk to people about a more intuitive understanding\n",
    "\n",
    "---"
   ]
  },
  {
   "cell_type": "markdown",
   "id": "burning-submission",
   "metadata": {
    "deletable": false,
    "editable": false,
    "nbgrader": {
     "cell_type": "markdown",
     "checksum": "719b48cf270e17e6ebadf444a0df3065",
     "grade": false,
     "grade_id": "q1-note8",
     "locked": true,
     "schema_version": 3,
     "solution": false,
     "task": false
    },
    "tags": []
   },
   "source": [
    "### 1.6 Behavior of lines under perspective projections (3 points)\n",
    "\n",
    "We stated in class that perspective projection preserves lines (a line in 3D is projected to a line in 2D). Verify algebraically that this is the case, i.e., verify that the projection $\\mathbf{P}$ in $\\mathbf{x} = \\mathbf{PX}$ preserves lines."
   ]
  },
  {
   "cell_type": "markdown",
   "id": "2c158f3d-651b-4fbe-8d73-3ffa5470d08f",
   "metadata": {},
   "source": [
    "---\n",
    "\n",
    "I feel like I'm making this approach up a bit, but let's take three *evenly spaced* points in 3D space that appear on a line: $X_1, X_2, X_3$. The center point, $X_2$, lies in the middle of the other two. Because they lie on a line and are evenly spaced, we know that $(X_2 - X_1) + (X_2 - X_3) = 0$. In English this is a statement about parallelism, it's saying that $X_2 - X_1$ and $X_2 - X_3$ are two vectors in line with each other and in opposing directions, such that they cancel each other out.\n",
    "\n",
    "From here it's simple to show that $(x_2 - x_1) + (x_2 - x_3)$ likewise equals 0, showing not only that perspective projection preserves lines but also preserves ratios between points.\n",
    "\n",
    "\\begin{align*}\n",
    "    (x_2 - x_1) + (x_2 - x_3) & \\equiv (PX_2 - PX_1) + (PX_2 - PX_3) \\\\\n",
    "    & \\equiv P(X_2 - X_1 + X_2 - X_3)  && \\text{Distributive property of matrices} \\\\\n",
    "    &= 0  && (X_2 - X_1) + (X_2 - X_3) = 0\n",
    "\\end{align*}\n",
    "\n",
    "---"
   ]
  },
  {
   "cell_type": "markdown",
   "id": "fixed-costs",
   "metadata": {
    "deletable": false,
    "editable": false,
    "nbgrader": {
     "cell_type": "markdown",
     "checksum": "6304540627a2f009463acebb867ebe03",
     "grade": false,
     "grade_id": "q2_4",
     "locked": true,
     "schema_version": 3,
     "solution": false,
     "task": false
    },
    "tags": []
   },
   "source": [
    "### 2.4 Check Point: Descriptor Matching (5 pts)\n",
    "\n",
    "Save the resulting figure and submit it in your PDF. Briefly discuss any cases that perform worse or better."
   ]
  },
  {
   "cell_type": "markdown",
   "id": "ce9da587-ff97-4736-b29d-e1052712c153",
   "metadata": {},
   "source": [
    "---\n",
    "\n",
    "YOUR ANSWER HERE...\n",
    "\n",
    "---"
   ]
  },
  {
   "cell_type": "markdown",
   "id": "attached-gabriel",
   "metadata": {
    "deletable": false,
    "editable": false,
    "nbgrader": {
     "cell_type": "markdown",
     "checksum": "874a6f5e970a402493faad319340249e",
     "grade": false,
     "grade_id": "q2_5",
     "locked": true,
     "schema_version": 3,
     "solution": false,
     "task": false
    },
    "tags": []
   },
   "source": [
    "### 2.5 BRIEF and rotations (5 pts)\n",
    "\n",
    "Include your code and the historgram figure in your PDF, and explain why you think  the descriptor behaves this way."
   ]
  },
  {
   "cell_type": "markdown",
   "id": "3d0851c9-b30c-4eb0-a3ab-bdf8fa25472a",
   "metadata": {
    "tags": []
   },
   "source": [
    "---\n",
    "\n",
    "YOUR ANSWER HERE...\n",
    "\n",
    "---"
   ]
  },
  {
   "cell_type": "markdown",
   "id": "rolled-conditioning",
   "metadata": {
    "deletable": false,
    "editable": false,
    "nbgrader": {
     "cell_type": "markdown",
     "checksum": "04d3f0c8590b34301c10fae68138cea1",
     "grade": false,
     "grade_id": "q2_6",
     "locked": true,
     "schema_version": 3,
     "solution": false,
     "task": false
    }
   },
   "source": [
    "### 2.6 Improving Performance - (Extra Credit, 10 pts)\n",
    "\n",
    "The extra credit opportunities described below are optional and provide an\n",
    "avenue to explore computer vision and improve the performance of the techniques developed above.\n",
    "\n",
    "   1. ($\\textbf{5 pts}$) As we have seen, BRIEF is not rotation invariant. Design a simple fix to solve this problem using the tools you have developed so far (think back to edge detection and/or Harris corner's covariance matrix).  Include yout code in your PDF, and explain your design decisions and how you selected any parameters that you use. Demonstrate the effectiveness of your algorithm on image pairs related by large rotation.\n",
    "\n",
    "   2. ($\\textbf{5 pts}$) This implementation of BRIEF has some scale invariance, but there are limits.  What happens when you match a picture to the same picture at half the size?  Look to section 3 of [Lowe2004](https://www.cs.ubc.ca/~lowe/papers/ijcv04.pdf) for a technique that will make your detector more robust to changes in scale. Implement it and demonstrate it in action with several test images. Include yout code and the test images in your PDF. You may simply rescale some of the test images we have given you. "
   ]
  },
  {
   "cell_type": "markdown",
   "id": "8bf40736-6e19-446c-b0c6-b48587eb126a",
   "metadata": {
    "tags": []
   },
   "source": [
    "---\n",
    "\n",
    "YOUR ANSWER HERE...\n",
    "\n",
    "---"
   ]
  },
  {
   "cell_type": "markdown",
   "id": "alpha-factory",
   "metadata": {
    "deletable": false,
    "editable": false,
    "nbgrader": {
     "cell_type": "markdown",
     "checksum": "4232656e2e4c13c850b080dbbfabe031",
     "grade": false,
     "grade_id": "q3_3",
     "locked": true,
     "schema_version": 3,
     "solution": false,
     "task": false
    }
   },
   "source": [
    "### 3.3 Automated Homography Estimation/Warping for Augmented Reality (10 points)\n",
    "\n",
    "Implement the following steps: \n",
    "   1. Reads $\\texttt{cv_cover.jpg}$, $\\texttt{cv_desk.png}$, and $\\texttt{hp_cover.jpg}$.\n",
    "   2. Computes a homography automatically using $\\texttt{computeH_ransac}$.\n",
    "   3. Warps $\\texttt{hp_cover.jpg}$ to the dimensions of the $\\texttt{cv_desk.png}$ image using the OpenCV $\\texttt{warpPerspective}$ function. \n",
    "   4. At this point you should notice that although the image is being warped to the correct location, it is not filling up the same space as the book. Why do you think this is happening? How would you modify $\\texttt{hp_cover.jpg}$ to fix this issue?\n",
    "   5. Implement the function: $\\texttt{function [ composite_img ] = compositeH( H2to1, template, img) }$ to now compose this warped image with the desk image as in the following figures.\n",
    "   6. Include your resulting image in your write-up. Please also print the final H matrix in your writeup (normalized so the bottom right value is 1)"
   ]
  },
  {
   "cell_type": "markdown",
   "id": "0c955486-39b6-416c-98ba-80f13c0fc540",
   "metadata": {
    "tags": []
   },
   "source": [
    "---\n",
    "\n",
    "YOUR ANSWER HERE...\n",
    "\n",
    "---"
   ]
  },
  {
   "cell_type": "markdown",
   "id": "direct-hours",
   "metadata": {
    "deletable": false,
    "editable": false,
    "nbgrader": {
     "cell_type": "markdown",
     "checksum": "0c3f862f1bc038844cc25fde833787be",
     "grade": false,
     "grade_id": "q4_1",
     "locked": true,
     "schema_version": 3,
     "solution": false,
     "task": false
    }
   },
   "source": [
    "### 4.1 Image Stitching (5 pts)\n",
    "\n",
    "Visualize the warped image. Please include the image and your H2to1 matrix (with the bottom right index as 1) in your writeup PDF, along with stating which image pair you used."
   ]
  },
  {
   "cell_type": "markdown",
   "id": "3aac2ecc-e648-4cf5-aa47-767432056ed4",
   "metadata": {
    "tags": []
   },
   "source": [
    "---\n",
    "\n",
    "YOUR ANSWER HERE...\n",
    "\n",
    "---"
   ]
  },
  {
   "cell_type": "markdown",
   "id": "suspected-metadata",
   "metadata": {
    "deletable": false,
    "editable": false,
    "nbgrader": {
     "cell_type": "markdown",
     "checksum": "670353343ebe97eeea49edc51d4e2c02",
     "grade": false,
     "grade_id": "q4_2",
     "locked": true,
     "schema_version": 3,
     "solution": false,
     "task": false
    }
   },
   "source": [
    "### 4.2 Image Stitching with No Clip (3 pts)\n",
    "\n",
    "Visualize the warped image. Please include the image in your writeup PDF, along with stating which image pair you used."
   ]
  },
  {
   "cell_type": "markdown",
   "id": "cedd83af-6c3d-48b6-a70e-a7bacb7a9256",
   "metadata": {
    "tags": []
   },
   "source": [
    "---\n",
    "\n",
    "YOUR ANSWER HERE...\n",
    "\n",
    "---"
   ]
  },
  {
   "cell_type": "markdown",
   "id": "trying-presentation",
   "metadata": {
    "deletable": false,
    "editable": false,
    "nbgrader": {
     "cell_type": "markdown",
     "checksum": "a942b6b65d616036124aa6c1c5f792b0",
     "grade": false,
     "grade_id": "q4_3",
     "locked": true,
     "schema_version": 3,
     "solution": false,
     "task": false
    }
   },
   "source": [
    "### 4.3 Generate Panorama (2 pts)\n",
    "\n",
    "Save the resulting panorama on the full sized images and include the figure and computed homography matrix in your writeup."
   ]
  },
  {
   "cell_type": "markdown",
   "id": "bf92a110-0685-48a7-9a3f-30be8203a100",
   "metadata": {
    "tags": []
   },
   "source": [
    "---\n",
    "\n",
    "YOUR ANSWER HERE...\n",
    "\n",
    "---"
   ]
  },
  {
   "cell_type": "markdown",
   "id": "subtle-grant",
   "metadata": {
    "deletable": false,
    "editable": false,
    "nbgrader": {
     "cell_type": "markdown",
     "checksum": "61f3929731831a39d495887a208c2772",
     "grade": false,
     "grade_id": "q4_4",
     "locked": true,
     "schema_version": 3,
     "solution": false,
     "task": false
    }
   },
   "source": [
    "### 4.4 extra credits (3 pts)\n",
    "\n",
    "Collect a pair of your own images (with your phone) and stitch them together using your code from the previous section. Include the pair of images and their result in the write-up."
   ]
  },
  {
   "cell_type": "markdown",
   "id": "287bdedd-bbf4-4f11-a614-83f18b179b8d",
   "metadata": {
    "tags": []
   },
   "source": [
    "---\n",
    "\n",
    "YOUR ANSWER HERE...\n",
    "\n",
    "---"
   ]
  },
  {
   "cell_type": "markdown",
   "id": "large-yacht",
   "metadata": {
    "deletable": false,
    "editable": false,
    "nbgrader": {
     "cell_type": "markdown",
     "checksum": "b9be81bee3ac8380c1c5d4d563bc5eb2",
     "grade": false,
     "grade_id": "q4_5",
     "locked": true,
     "schema_version": 3,
     "solution": false,
     "task": false
    },
    "tags": []
   },
   "source": [
    "### 4.5 extra credits (2 pts)\n",
    "\n",
    "Collect at least 6 images  and stitch them into a single noClip image. You can either collect your own, or use the [PNC Park images](http://www.cs.jhu.edu/~misha/Code/SMG/PNC3.zip) from Matt Uyttendaele. We used the PNC park images (subsmapled to 1/4 sized) and ORB keypoints and descriptors for our reference solution."
   ]
  },
  {
   "cell_type": "markdown",
   "id": "4d3d343c-22b1-4a49-8200-fa5beada609c",
   "metadata": {
    "tags": []
   },
   "source": [
    "---\n",
    "\n",
    "YOUR ANSWER HERE...\n",
    "\n",
    "---"
   ]
  },
  {
   "cell_type": "markdown",
   "id": "confidential-falls",
   "metadata": {
    "deletable": false,
    "editable": false,
    "nbgrader": {
     "cell_type": "markdown",
     "checksum": "6131a12e81b99127f4e25c5d4fb6a4b9",
     "grade": false,
     "grade_id": "q5",
     "locked": true,
     "schema_version": 3,
     "solution": false,
     "task": false
    }
   },
   "source": [
    "## Question 5: Poisson Image Stitching (15 points)\n",
    "\n",
    "Write a function called $\\texttt{poisson_blend(background,foreground,mask)}$ which takes 3 equal sized images (background and foreground as RGB, mask as binary) and solves the Poisson equation, using gradients from foreground and boundary conditions from the background. \n",
    "\n",
    "**The problem will be manually graded.** Please include results from both the $\\texttt{(fg1,bg1,mask1)}$ and $\\texttt{(fg2,bg2,mask2)}$ images in your write-up."
   ]
  },
  {
   "cell_type": "markdown",
   "id": "8b6566ea-87da-44c3-a02e-d605e51a2bce",
   "metadata": {
    "tags": []
   },
   "source": [
    "---\n",
    "\n",
    "YOUR ANSWER HERE...\n",
    "\n",
    "---"
   ]
  }
 ],
 "metadata": {
  "kernelspec": {
   "display_name": "Python 3",
   "language": "python",
   "name": "python3"
  },
  "language_info": {
   "codemirror_mode": {
    "name": "ipython",
    "version": 3
   },
   "file_extension": ".py",
   "mimetype": "text/x-python",
   "name": "python",
   "nbconvert_exporter": "python",
   "pygments_lexer": "ipython3",
   "version": "3.8.10"
  }
 },
 "nbformat": 4,
 "nbformat_minor": 5
}
