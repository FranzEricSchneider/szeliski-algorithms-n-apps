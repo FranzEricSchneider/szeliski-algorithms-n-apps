{
 "cells": [
  {
   "cell_type": "code",
   "execution_count": null,
   "metadata": {},
   "outputs": [],
   "source": []
  },
  {
   "cell_type": "markdown",
   "metadata": {
    "deletable": false,
    "editable": false,
    "nbgrader": {
     "cell_type": "markdown",
     "checksum": "baa52b722dc3cba90385d3d0ded47dbc",
     "grade": false,
     "grade_id": "cell-b2250668e6fbbab8",
     "locked": true,
     "schema_version": 3,
     "solution": false,
     "task": false
    }
   },
   "source": [
    "<img align=\"center\" src=\"images/course.png\" width=\"800\">"
   ]
  },
  {
   "cell_type": "markdown",
   "metadata": {},
   "source": [
    "# 16720 (B)  3D Reconstruction - Assignment 5\n",
    "    Instructor: Kris                          TAs: Zen (Lead), Yan, Rawal, Wen-Hsuan, Paritosh, Qichen\n",
    "\n",
    "# Instructions\n",
    "\n",
    "This section should include the visualizations and answers to specifically highlighted questions from P1 to P4. This section will need to be uploaded to gradescope as a pdf and manually graded (this is a separate submission from the coding notebooks).\n",
    "\n",
    "\n",
    "1. Students are encouraged to work in groups but each student must submit their own work. Include the names of your collaborators in your write up. Code should <span style='color:red'>Not</span>  be shared or copied. Please properly give credits to others by <span style='color:red'>LISTING EVERY COLLABORATOR</span> in the writeup including any code segments that you discussed,  Please <span style='color:red'>DO NOT</span>  use external code unless permitted. Plagiarism is prohibited and may lead to failure of this course.\n",
    "\n",
    "2.  **Start early!** This homework will take a long time to complete.\n",
    "    \n",
    "3. **Questions:** If you have any question, please look at Piazza first and the FAQ page for this homework.\n",
    "\n",
    "4. All the theory question and manually graded questions should be included in a single writeup (this notebook exported as pdf or a standalone pdf file) and submitted to gradescope: pdf assignment. \n",
    "\n",
    "5. **Attempt to verify your implementation as you proceed:** If you don’t verify that your implementation is correct on toy examples, you will risk having a huge issue when you put everything together. We provide some simple checks in the notebook cells, but make sure you verify them on more complicated samples before moving forward. \n",
    "\n",
    "6. **Do not import external functions/packages other than the ones already imported in the files:** The current imported functions and packages are enough for you to complete this assignment. If you need to import other functions, please remember to comment them out after submission. Our autograder will crash if you import a new function that the gradescope server does not expect. \n",
    "\n",
    "7. Assignments that do not follow this submission rule will be **penalized up to 10\\% of the total score**.\n"
   ]
  },
  {
   "cell_type": "markdown",
   "metadata": {
    "deletable": false,
    "editable": false,
    "nbgrader": {
     "cell_type": "markdown",
     "checksum": "5a10be777f18b8270699d9bcd3f50917",
     "grade": false,
     "grade_id": "cell-1b45fd1c3c38945a",
     "locked": true,
     "schema_version": 3,
     "solution": false,
     "task": false
    }
   },
   "source": [
    "# Theory Questions (25 pts)\n",
    "\n",
    "Before implementing our own 3D reconstruction, let's take a  look at some simple theory questions that may arise. The answers to the below questions should be relatively short, consisting of a few lines of math and text (maybe a diagram if it helps your understanding).  \n",
    "\n",
    "<img align=\"center\" src=\"images/drawing-1.png\" width=\"800\">\n",
    "<center> <figcaption align=\"center\"><b>Figure1. Figure for Q1.1. $C1$ and $C2$ are the optical centers. The principal axes intersect at point $\\textbf{w}$ ($P$ in the figure).</b></figcaption> </center>\n",
    "\n",
    "\n",
    "\n",
    "\n",
    "## Q1.1\n",
    "Suppose two cameras fixated on a point $x$ (see Figure 1) in space such that their principal axes intersect at the  point $P$. Show that if the image coordinates are normalized so that the coordinate origin $(0, 0)$\n",
    "coincides with the principal point, the $\\textbf{F}_{33}$ element of the fundamental matrix is zero."
   ]
  },
  {
   "cell_type": "markdown",
   "metadata": {
    "deletable": false,
    "nbgrader": {
     "cell_type": "markdown",
     "checksum": "230c80f93cd50124cc51aaf2cce6cf60",
     "grade": true,
     "grade_id": "cell-ddb4d1f50ebcaec0",
     "locked": false,
     "points": 5,
     "schema_version": 3,
     "solution": true,
     "task": false
    }
   },
   "source": [
    "---\n",
    "\n",
    "First off, let's talk about some basic definitions. A homogeneous image point that goes through the coordinate origin of camera 1 will be\n",
    "\\begin{align*}\n",
    "    x_1 &= \\begin{bmatrix} 0 \\\\ 0 \\\\ 1 \\end{bmatrix}\n",
    "\\end{align*}\n",
    "\n",
    "Another thing to note is that image coordinate line equations like $ax + by + c = 0$ consist of two parts. The first two components $(a, b)$ correspond to a direction vector perpendicular to the actual line out from the origin, and $c$ is a term that denotes distance along the vector. $c$ is not exactly distance in pixels, since there is a normalization term involving $a$ and $b$, but that's the idea.\n",
    "\\begin{align*}\n",
    "    \\ell_2 &= \\begin{bmatrix} a \\\\ b \\\\ c \\end{bmatrix}\n",
    "\\end{align*}\n",
    "\n",
    "The important thing is that when a line passes through the image origin the distance term $c$ will be 0. With these two facts established let's look at the problem.\n",
    "\n",
    "For the Fundamental matrix $F$ between the two cameras, this relationship should always be true:\n",
    "\\begin{align*}\n",
    "    \\ell_2 &= F x_1\n",
    "\\end{align*}\n",
    "where $x_1$ is any pixel in the camera 1 and $\\ell_2$ is an epipolar line for the corresponding point in camera 2. This relationship should hold for any $x_1$, but the $F$ matrix should stay constant. Therefore we can investigate the structure of $F$ by using an $x_1$ point with notable constraints, such as the origin.\n",
    "\n",
    "When the origin of camera 1 is used as the $x_1$ point we know that the epipolar line should pass through the origin of camera 2 because principal axis of camera 2 is pointed at $P$. Therefore we know that the following relationship should be true:\n",
    "\\begin{align*}\n",
    "    \\begin{bmatrix} \\alpha \\\\ \\beta \\\\ 0 \\end{bmatrix} &= F \\begin{bmatrix} 0 \\\\ 0 \\\\ 1 \\end{bmatrix}\n",
    "\\end{align*}\n",
    "$\\alpha$ and $\\beta$ are arbitrary since we don't know how the cameras are oriented except that their centers hit the same point.\n",
    "\n",
    "For this statement to be true, we know that $F_{3, 3}$ must be 0. This is when doing matrix multiplication to get the last vector value because whatever is in $F_{3, 1}$ and $F_{3, 2}$ gets zeroed out by the zero values in $x_1$, and the only option for $F_{3, 3} * 1 = 0$ is when $F_{3, 3}$ is 0.\n",
    "\n",
    "---"
   ]
  },
  {
   "cell_type": "markdown",
   "metadata": {
    "deletable": false,
    "editable": false,
    "nbgrader": {
     "cell_type": "markdown",
     "checksum": "e534a02fe47c25b7e47298c7648e1c17",
     "grade": false,
     "grade_id": "cell-fc866101ec15f385",
     "locked": true,
     "schema_version": 3,
     "solution": false,
     "task": false
    }
   },
   "source": [
    "## Q1.2\n",
    "Consider the case of two cameras viewing an object such that the second camera differs from the first by a pure translation that is parallel to the $x$-axis. Show that the epipolar lines in the two cameras are also parallel to the $x$-axis. Backup your argument with relevant equations.\n"
   ]
  },
  {
   "cell_type": "markdown",
   "metadata": {
    "deletable": false,
    "nbgrader": {
     "cell_type": "markdown",
     "checksum": "7e10bc4946beab4d0d572bf50cba41a3",
     "grade": true,
     "grade_id": "cell-d618bdb98a0d5f94",
     "locked": false,
     "points": 5,
     "schema_version": 3,
     "solution": true,
     "task": false
    }
   },
   "source": [
    "---\n",
    "\n",
    "For starters, let's talk about the Essential matrix for vision. It is defined so that a point from one camera is projected into an epipolar line in the other camera's coordinates. It is also defined as a combination of the real-world rotation and translation matrices.\n",
    "\n",
    "\\begin{align*}\n",
    "    \\ell_2 &= E x_1  && \\text{Again, $x_1$ is a point in camera 1, $\\ell_2$ an epipolar line in camera 2} \\\\\n",
    "    E &= R t_x  && \\text{$R$ is rotation matrix from cam1 to cam2} \\\\\n",
    "    & && \\text{$t_x$ is the cross-product version of translation from cam1 to cam2}\n",
    "\\end{align*}\n",
    "\n",
    "Well, we're assuming for the purposes of this problem that we know $R$ (it's just $I$) and we know $t_x$ (it's the cross-product version of $t = [x_t, 0, 0]$ because translation only happens along the $x$-axis). Therefore we can construct $E$.\n",
    "\n",
    "\\begin{align*}\n",
    "    E &= I t_x \\\\\n",
    "    &= t_x \\\\\n",
    "    &= \\begin{bmatrix}\n",
    "        0 &   0 &    0 \\\\\n",
    "        0 &   0 & -x_t \\\\\n",
    "        0 & x_t &    0 \\\\\n",
    "    \\end{bmatrix}\n",
    "\\end{align*}\n",
    "\n",
    "Now let's examine the epipolar line $\\ell_2$ formed by an **arbitrary** pixel value $x_1 = [x, y, 1]$ in camera 1.\n",
    "\n",
    "\\begin{align*}\n",
    "    \\ell_2 &= E x_1 \\\\\n",
    "    &= \\begin{bmatrix}\n",
    "        0 &   0 &    0 \\\\\n",
    "        0 &   0 & -x_t \\\\\n",
    "        0 & x_t &    0 \\\\\n",
    "    \\end{bmatrix}\n",
    "    \\begin{bmatrix} x \\\\ y \\\\ 1 \\end{bmatrix} \\\\\n",
    "    &= \\begin{bmatrix} 0 \\\\ -x_t \\\\ y x_t \\end{bmatrix} \\\\\n",
    "    &= \\begin{bmatrix} 0 \\\\ \\frac{-1}{y} \\\\ 1 \\end{bmatrix} \\\\\n",
    "\\end{align*}\n",
    "\n",
    "We can see two things here:\n",
    "1. The translation distance doesn't matter, it doesn't change the epipolar line at all\n",
    "2. No matter what, there is no $x$ component to the line equation, only $y$ values. As discussed in Q1.1, lines are perpendicular to the $(a, b)$ vector in the line equation. This means that there is no $y$ component in the epipolar line, it travels only along $x$, which is what we wanted to show.\n",
    "\n",
    "---"
   ]
  },
  {
   "cell_type": "markdown",
   "metadata": {
    "deletable": false,
    "editable": false,
    "nbgrader": {
     "cell_type": "markdown",
     "checksum": "489ca170dd31079e5389db09533ce11f",
     "grade": false,
     "grade_id": "cell-9d505035dba56563",
     "locked": true,
     "schema_version": 3,
     "solution": false,
     "task": false
    }
   },
   "source": [
    "## Q1.3\n",
    "Suppose we have an inertial sensor which gives us the accurate extrinsics $\\mathbf{R}_i$ and $\\textbf{t}_i$ (see Figure 2), the rotation matrix and translation vector of the robot at time $i$. What will be the effective rotation ($\\textbf{R}_{rel}$) and translation ($\\textbf{t}_{rel}$) between two frames at different time stamps? Suppose the camera intrinsics ($\\textbf{K}$) are known, express the essential matrix ($\\textbf{E}$) and the fundamental matrix ($\\textbf{F}$) in terms of $\\textbf{K}$, $\\textbf{R}_{rel}$ and $\\textbf{t}_{rel}$.\n",
    "\n",
    "<img align=\"center\" src=\"images/F_E.png\" width=\"500\">\n",
    "<center> <figcaption align=\"center\"><b>Figure 2. Figure for Q1.3. $C1$ and $C2$ are the optical centers. The rotation and the translation is obtained using inertial sensors. $\\textbf{R}_{rel}$ and $\\textbf{t}_{rel}$ are the relative rotation and translation between two frames.</b></figcaption> </center>"
   ]
  },
  {
   "cell_type": "markdown",
   "metadata": {},
   "source": [
    "---\n",
    "\n",
    "As discussed before, $E$ is defined as\n",
    "\n",
    "\\begin{align*}\n",
    "    E &= R t_x  && \\text{$R$ is rotation matrix from cam1 to cam2} \\\\\n",
    "    & && \\text{$t_x$ is the cross-product version of translation from cam1 to cam2}\n",
    "\\end{align*}\n",
    "\n",
    "A really important caveat is that these terms express the relationship between these two frames. $R$ needs to be the rotation from frame 1 to frame 2, and $t$ needs to be expressed in the camera frame, not in the world frame like some students have been discussing. There's actually an interesting dichotomy that I ran into when digging into this problem. You can write a transformation as either\n",
    "\n",
    "1. $Rx + t$ - This implies that $t$ is defined in the *parent/upstream* frame\n",
    "2. $R(x + t)$ - This implies that $t$ is defined in the *child/downstream* frame\n",
    "\n",
    "I'll write these as $Rx + t_p$ and $R(x + t_c)$. This makes sense, because you can go between these two representations by distribution: $Rx + t_p = R(x + t_c) = Rx + Rt_c$. It makes sense that $t_p$ (translation in the parent frame) is equivalent to $Rt_c$, that's a valid rotation.\n",
    "\n",
    "This dichotomy is important, and affects how the Essential matrix is defined. I'll show that these two statements have correct coordinate interpretations with some plots. Note that the function that plots the reference frames uses these two definitions based on whether the $t$ vector is supposed to be in the parent frame."
   ]
  },
  {
   "cell_type": "code",
   "execution_count": 22,
   "metadata": {},
   "outputs": [
    {
     "data": {
      "image/png": "[encoded data removed]",
      "text/plain": [
       "<Figure size 432x288 with 1 Axes>"
      ]
     },
     "metadata": {
      "needs_background": "light"
     },
     "output_type": "display_data"
    },
    {
     "data": {
      "image/png": "[encoded data removed]",
      "text/plain": [
       "<Figure size 432x288 with 1 Axes>"
      ]
     },
     "metadata": {
      "needs_background": "light"
     },
     "output_type": "display_data"
    }
   ],
   "source": [
    "from matplotlib import pyplot\n",
    "import numpy\n",
    "\n",
    "\n",
    "def Rz(theta):\n",
    "    return numpy.array([[numpy.cos(theta), -numpy.sin(theta)],\n",
    "                        [numpy.sin(theta),  numpy.cos(theta)]])\n",
    "def T(a, b): return numpy.array([[a], [b]])\n",
    "pi = numpy.pi\n",
    "\n",
    "def frame(r, t, axis, scale=1, t_in_parent_frame=True):\n",
    "    if t_in_parent_frame:\n",
    "        origin = r @ T(0, 0) + t\n",
    "        xaxis = r @ T(scale, 0) + t\n",
    "        yaxis = r @ T(0, scale) + t\n",
    "    else:\n",
    "        origin = r @ (T(0, 0) + t)\n",
    "        xaxis = r @ (T(scale, 0) + t)\n",
    "        yaxis = r @ (T(0, scale) + t)\n",
    "    axis.plot([origin[0], xaxis[0]], [origin[1], xaxis[1]], \"r\")\n",
    "    axis.plot([origin[0], yaxis[0]], [origin[1], yaxis[1]], \"g\")\n",
    "\n",
    "\n",
    "# First show that Rx + t has t defined in the parent frame\n",
    "figure, axis = pyplot.subplots()\n",
    "frame(numpy.eye(2), T(0, 0), axis)  # Origin\n",
    "frame(Rz(pi/4), T(3, 1), axis, t_in_parent_frame=True)\n",
    "axis.axis(\"equal\")\n",
    "axis.grid()\n",
    "pyplot.title(\"We apply (3, 1) in our assumed parent (global) frame - \"\n",
    "             \"see how (3, 1) is actually in global frame\")\n",
    "pyplot.show()\n",
    "\n",
    "# Then show that R(x + t) has t defined in the child frame\n",
    "figure, axis = pyplot.subplots()\n",
    "frame(numpy.eye(2), T(0, 0), axis)\n",
    "frame(Rz(pi/4), T(numpy.sqrt(2), 0), axis, t_in_parent_frame=False)\n",
    "axis.axis(\"equal\")\n",
    "axis.grid()\n",
    "pyplot.title(\"We apply (sqrt(2), 0) in our child frame - \"\n",
    "             \"see how (1, 1) is applied in global frame,\"\n",
    "             \" which is (sqrt(2), 0) in the child frame\")\n",
    "pyplot.show()"
   ]
  },
  {
   "cell_type": "markdown",
   "metadata": {
    "deletable": false,
    "nbgrader": {
     "cell_type": "markdown",
     "checksum": "30b8549ddf70118b77ef896d549b9ad1",
     "grade": true,
     "grade_id": "cell-95b51fa815c97b28",
     "locked": false,
     "points": 5,
     "schema_version": 3,
     "solution": true,
     "task": false
    }
   },
   "source": [
    "So we've established that $Rx + t$ implies $t$ is defined in the parent frame and $R(x+t)$ implies $t$ is defined in the child frame. So now let's look at how the Essential matrix is calculated.\n",
    "\n",
    "In [Wikipedia](https://en.wikipedia.org/wiki/Essential_matrix#Derivation_and_definition) it says \"\\[for\\] the normalized cameras their respective coordinate systems are related by means of a translation and rotation. This implies that the two sets of 3D coordinates are related as\"\n",
    "\n",
    "\\begin{align*}\n",
    "    \\bar{x}' &= R(\\bar{x} - t) \\\\\n",
    "    E &= R [t]_{\\times} \\\\\n",
    "\\end{align*}\n",
    "\n",
    "That heavily implies that the $t$ being used for $[t]_{\\times}$ is defined in the *child* frame in order for the Essential matrix derivation to be correct. Now lets check the class notes... Okay, if we look in slide 133 in lecture 17 it also starts off defining rigid motion as $x' = R(x - t)$ and ending with $E = R[t_{\\times}]$. I'm positive there is an equivalent relationship for $E$ when rigid motion is defined as $Rx + t$, but I'm fairly certain after these checks that when people refer to $E$ as $R t_{\\times}$ then $t$ must be defined in the child frame.\n",
    "\n",
    "<!-- If this weren't true, and the translation vector could be expressed in some coordinate frame like the world coordinate frame, then imagine two camera frames fixed relative to each other ($C_i$ and $C_j$). Since they are fixed relative to each other, then the essential matrix should stay constant. However, let's say the world frame orientation was changing relative to the fixes $C_i, C_j$ pair. If $t_i$ could be expressed in the world frame then $E = R t_x$ would be changing as well, which is invalid. -->\n",
    "\n",
    "---\n",
    "\n",
    "**Caveat**: There are multiple different assumptions that could be made about **which frames** the rotation matrix $R_i$ and translation vector $t_i$ **returned by the sensor are defined in**, and it's unclear what is correct. I'm going to go through and assume that $R_i$ and $t_i$ are both defined in the world frame, but other starting assumptions will lead you to other equivalent solutions.\n",
    "\n",
    "---\n",
    "\n",
    "The first assumption that could be made is that the rotation matrix and translation vector are both\n",
    "1. Defined from the world frame to the camera frame and (importantly)\n",
    "2. Defined in the world frame axes\n",
    "\n",
    "In that case, let's start off by finding the rotation matrix $R_{rel}$. We want to get this from the frame of camera 1 to camera 2, regardless of the world frame. When you're stacking transformations on top of each other, you stack additional transforms on the left in a chain, like $R_w^4 = R_3^4 R_2^3 R_1^2 R_w^1$, where $R_2^3$ is the transform from frame 1 to 2. Thus in this case we would have\n",
    "\n",
    "\\begin{align*}\n",
    "    R_{rel} R_i &= R_j  && \\text{Assuming $R_j$ is further along the chain} \\\\\n",
    "    R_{rel} &= R_j R_i^{-1} \\\\\n",
    "    &= R_j R_i^T\n",
    "\\end{align*}\n",
    "\n",
    "Since we started off with world-frame camera origin coordinates $t_i$ and $t_j$ (in this set of assumptions) then\n",
    "\n",
    "\\begin{align*}\n",
    "    \\Delta t_w &= t_j - t_i\n",
    "\\end{align*}\n",
    "\n",
    "represents the translation from $i$ frame to $j$ frame *in world frame coordinates*. As we discussed in great deal above, in order to calculate the $E$ matrix we want to define $t$ in the child frame, which in this case is $j$. Now, generally speaking, if you have a rotation matrix from frame $a$ to $b$ ($R_a^b$) and a point $p_b$ defined in frame $b$, then $R_a^b \\cdot p_b = p_a$, a.k.a. the point re-defined in frame $a$. Thus $p_b = R_a^{bT} p_a$. In this case we have a rotation matrix from the world frame to frame $j$, and a vector defined in the world frame, so\n",
    "\n",
    "\\begin{align*}\n",
    "    R_j^T \\Delta t_w &= \\Delta t_j  && \\text{The vector in reference frame $j$} \\\\\n",
    "    &= t_{rel} \\\\\n",
    "\\end{align*}\n",
    "\n",
    "Once $R_{rel}$ and $t_{rel}$ are defined, it's very simple to define $E$ and $F$ matrices using the standard equations:\n",
    "\n",
    "\\begin{align*}\n",
    "    E &= R_{rel} [t_{rel}]_{\\times} \\\\\n",
    "    &= R_j R_i^T [R_j^T (t_j - t_i)]_{\\times} \\\\\n",
    "    F &= K_j^T E K_i\n",
    "\\end{align*}"
   ]
  },
  {
   "cell_type": "code",
   "execution_count": 56,
   "metadata": {},
   "outputs": [
    {
     "data": {
      "image/png": "[encoded data removed]",
      "text/plain": [
       "<Figure size 432x288 with 1 Axes>"
      ]
     },
     "metadata": {
      "needs_background": "light"
     },
     "output_type": "display_data"
    }
   ],
   "source": [
    "# Define successive transforms\n",
    "Rw1 = Rz(pi/4)\n",
    "Tw1 = T(0.75, 0.75)\n",
    "\n",
    "R12 = Rz(-pi/8)\n",
    "T12 = T(0, 1.5)\n",
    "\n",
    "R23 = Rz(-pi/8)\n",
    "T23 = T(1, 0.5)\n",
    "\n",
    "# Stack the series of rotations and translations\n",
    "#---------------------------\n",
    "# The Rw1 @ T(0, 0) is explicitly useless, but it helped me\n",
    "# keep my mind straight that we were projecting the origin\n",
    "#---------------------------\n",
    "# NOTE: My translations above are defined in the parent frame because\n",
    "# I am using Rx + t\n",
    "Rw2 = Rw1 @ R12\n",
    "Tw2 = Rw1 @ (R12 @ T(0, 0) + T12) + Tw1\n",
    "\n",
    "Rw3 = Rw2 @ R23\n",
    "Tw3 = Rw2 @ (R23 @ T(0, 0)+ T23) + Tw2\n",
    "\n",
    "# Plot stacked transforms progressively smaller\n",
    "figure, axis = pyplot.subplots()\n",
    "frame(numpy.eye(2), T(0, 0), axis)  # World origin\n",
    "frame(Rw1, Tw1, axis)\n",
    "frame(Rw2, Tw2, axis, scale=0.8)\n",
    "axis.plot(*Tw2.tolist(), \"bo\")\n",
    "frame(Rw3, Tw3, axis, scale=0.6)\n",
    "axis.plot(*Tw3.tolist(), \"ko\")\n",
    "axis.axis(\"equal\")\n",
    "pyplot.title(\"A series of transforms getting progressively smaller as they stack\")\n",
    "pyplot.show()"
   ]
  },
  {
   "cell_type": "markdown",
   "metadata": {},
   "source": [
    "Now armed with this knowledge we can attempt two tests.\n",
    "1. If we calculate $R_{rel}$ as $R_jR_i^T$ will we get the correct relative transform? In this case, based on our examples shown above frame $i$ is the blue dot ($R_{w2}, T_{w2}$) and frame $j$ is the black dot ($R_{w3}, T_{w3}$). $R_{w3} R_{w2}^T$ should result in a rotation of $-\\pi/16$.\n",
    "2. If we calculate $t_{rel}$ as $R_j^T(t_j - t_i)$, then we should get the last translation (1, 0.5) but expressed in the *child* frame, which is rotated by $\\pi/16$. I haven't calculated this, but just by eyeballing it it looks like it should be about $(0.8, 0.8)$."
   ]
  },
  {
   "cell_type": "code",
   "execution_count": 57,
   "metadata": {},
   "outputs": [
    {
     "data": {
      "image/png": "[encoded data removed]",
      "text/plain": [
       "<Figure size 432x288 with 1 Axes>"
      ]
     },
     "metadata": {
      "needs_background": "light"
     },
     "output_type": "display_data"
    }
   ],
   "source": [
    "Rrel = Rw3 @ Rw2.T\n",
    "\n",
    "# First make a plot showing Rrel\n",
    "figure, axis = pyplot.subplots()\n",
    "frame(numpy.eye(2), T(0, 0), axis)\n",
    "frame(Rrel, T(0, 0), axis, 0.5)\n",
    "axis.axis(\"equal\")\n",
    "pyplot.title(\"Is the smaller axis rotated -pi/2 from the larger? Looks good!\")\n",
    "pyplot.show()"
   ]
  },
  {
   "cell_type": "code",
   "execution_count": 58,
   "metadata": {},
   "outputs": [
    {
     "data": {
      "image/png": "[encoded data removed]",
      "text/plain": [
       "<Figure size 432x288 with 1 Axes>"
      ]
     },
     "metadata": {
      "needs_background": "light"
     },
     "output_type": "display_data"
    }
   ],
   "source": [
    "Trel = Rw3.T @ (Tw3 - Tw2)\n",
    "\n",
    "# First make a plot tested that Trel is coorect and in the child frame\n",
    "figure, axis = pyplot.subplots()\n",
    "frame(numpy.eye(2), T(0, 0), axis)\n",
    "frame(numpy.eye(2), Trel, axis, 0.5)\n",
    "axis.axis(\"equal\")\n",
    "pyplot.title(\"Is the smaller axis ~(0.8, 0.8) from the larger? Looks good!\")\n",
    "pyplot.show()"
   ]
  },
  {
   "cell_type": "code",
   "execution_count": 59,
   "metadata": {},
   "outputs": [
    {
     "data": {
      "image/png": "[encoded data removed]",
      "text/plain": [
       "<Figure size 432x288 with 1 Axes>"
      ]
     },
     "metadata": {
      "needs_background": "light"
     },
     "output_type": "display_data"
    }
   ],
   "source": [
    "# Combination time! This should be frame 3 with frame 2 placed at the origin\n",
    "figure, axis = pyplot.subplots()\n",
    "frame(numpy.eye(2), T(0, 0), axis)\n",
    "frame(Rrel, Rrel @ Trel, axis, 0.5)\n",
    "axis.axis(\"equal\")\n",
    "pyplot.title(\"The small should be frame 3 with frame 2 placed at the origin, see\"\n",
    "             \" original stacked graph for correctness\")\n",
    "pyplot.show()"
   ]
  },
  {
   "cell_type": "markdown",
   "metadata": {},
   "source": [
    "There! We've shown that $R_{rel} = R_jR_i^T$ and $t_{rel} = R_j^T(t_j - t_i)$ both got good-looking relative transformations **when** you have $R_i, t_i, R_j, t_j$ in the world frames and you define $E = R[t]_{\\times}$."
   ]
  },
  {
   "cell_type": "markdown",
   "metadata": {},
   "source": [
    "---\n",
    "\n",
    "<!-- However, on Piazza (@693) it was mentioned that we could assume $x_i = R_i X + t_i$, which means -->\n",
    "\n",
    "---"
   ]
  },
  {
   "cell_type": "markdown",
   "metadata": {
    "deletable": false,
    "editable": false,
    "nbgrader": {
     "cell_type": "markdown",
     "checksum": "1493d0ead7cc2a9bfbdcfb9b3014afa8",
     "grade": false,
     "grade_id": "cell-18e27a9a54289ed0",
     "locked": true,
     "schema_version": 3,
     "solution": false,
     "task": false
    }
   },
   "source": [
    "## Q1.4\n",
    "\n",
    "Suppose that a camera views an object and its reflection in a plane mirror. Show that this situation is equivalent to having two images of the object which are related by a skew-symmetric fundamental matrix. You may assume that the object is flat, meaning that all points on the object are of equal distance to the mirror (**Hint:** draw the relevant vectors to understand the relationship between the camera, the object, and its reflected image.)\n",
    "\n",
    "\n",
    "\n"
   ]
  },
  {
   "cell_type": "markdown",
   "metadata": {
    "deletable": false,
    "nbgrader": {
     "cell_type": "markdown",
     "checksum": "f2e53ba2c33fdd08eee26ab9d6b9322a",
     "grade": true,
     "grade_id": "cell-d5728e037f384ded",
     "locked": false,
     "points": 10,
     "schema_version": 3,
     "solution": true,
     "task": false
    }
   },
   "source": [
    "---\n",
    "\n",
    "Worked on this problem with Nikhil and David.\n",
    "\n",
    "Let's start by reframing the problem, then drawing a diagram. First thing of interest, one way to think about looking at an object in a mirror is by pretending you're looking straight at an object that is through the mirror, literally in the \"mirrored\" position across the mirror. Another thing to discuss is what the question is asking. I think what it's saying is that when you imagine seeing the original image and this mirrored version in the original camera, you can instead think about that as seeing the original image twice: once in the original camera and once in a virtual camera that mimics the view you *would* have gotten from the mirrored object. Explanation in this diagram:\n",
    "\n",
    "DIAGRAM\n",
    "\n",
    "Here you can see that the original camera started off with two views - one straight to the original object and one to the mirrored object (marked in yellow). Our task (I think) is to find a virtual camera that has the same view onto the original object that the  (also marked in yellow). Objects are assumed to be infinitely thin and visible from both sides, I believe from an office hours this is correct.\n",
    "\n",
    "So let's define some terms. The camera matrix that expresses the original camera is $C$, and contains the intrinsic and extrinsic parameters $C = KM$ as normal. In this case $M$ is the identity since we arbitrarily placed the camera at the origin. Therefore if we chose an arbitrary point $P'$ on the *mirrored* object, it will project onto the camera at the pixel coordinates\n",
    "\n",
    "\\begin{align*}\n",
    "    x' \\equiv C P'\n",
    "\\end{align*}\n",
    "\n",
    "Now let's imagine the virtual camera. It will have camera matrix $C'$, defined as $C' = KM'$. $K$ will be the same for both cameras, but $M'$ will be different than $M$ (different extrinsics) representing that we could rotate or translate the virtual camera. As a way of constraining ourselves, we are going to say that we want to replicate the pixel $x'$ in the virtual camera, but using the point $P$ instead of $P'$. This is equivalent to saying that we want the virtual camera to have the same view onto the original object as the origin camera has on the mirrored object. Put into math,\n",
    "\n",
    "\\begin{align*}\n",
    "    x' \\equiv C' P\n",
    "\\end{align*}\n",
    "\n",
    "Alright, let's start combining and simplifying these expressions. In the end we want to solve for $C'$ (really $M'$, the extrinsics) that will result in this \"matched view\" that we're looking for.\n",
    "\n",
    "\\begin{align*}\n",
    "    x' &\\equiv C P' \\\\\n",
    "    &= \\phi_1 C P'  && \\text{Arbitrary scale factor} \\\\\n",
    "    x' &\\equiv C' P \\\\\n",
    "    &= \\phi_2 C' P  && \\text{Arbitrary scale factor} \\\\\n",
    "    C' P &= \\phi C P'  && \\phi = \\phi_1 / \\phi_2 \\\\\n",
    "\\end{align*}"
   ]
  },
  {
   "cell_type": "markdown",
   "metadata": {},
   "source": [
    "At this point, let's examine the mirror. Since the object is parallel to the mirror, and given a unit direction vector $\\vec{m}$ perpendicular to the mirror plane, we know that every point $P'$ on the mirrored object is $2 m_d \\vec{m}$ away from $P$. Therefore $P = P' + t$, where $t = 2 m_d \\vec{m}$. Let's substitute $P' = P-t$ into the equation.\n",
    "\n",
    "\\begin{align*}\n",
    "    C' P &= \\phi C (P - t) \\\\\n",
    "    K M' P &= \\phi K M (P-t)  && \\text{Split $C$ into $KM$ on both sides)} \\\\\n",
    "    M' P &= \\phi M (P-t)  && \\text{Then cancel $K$ (always invertible, $phi$ is a scalar)}\n",
    "\\end{align*}\n",
    "\n",
    "Now remember, the original camera is at the origin, which makes $M$ not quite identity, but instead $[I | 0]$ That means that the homogeneous 3D ($4\\times1$) points $P$ and $t$ will be squished down to a 3D ($3\\times1$) vectors. No matter what was in the 4th row of $P$ or $t$ it will be wiped out by the 4th column of zeros in $M$. I'm going to call these squished vectors $P_{012} = MP$ and $t_{012} = Mt$.\n",
    "\n",
    "Now we have $M' P = \\phi (P_{012}-t_{012})$, which is pretty much all we need to solve for $M'$. This is because of the structure of $M'$, which we know is a rotation matrix and a translation vector, $M' = [R|T]$. This is a little tricky, but imagine we are changing the point $P$ around on the left side, and consistently seeing $P_{012} - t_{012}$ appear on the right. For any single solution you could solve it with an arbitrary $M'$ matrix, but to solve it for every point $P$, the only way for that to happen is if we have $M' / \\phi = [I | -t_{012}]$. The $T$ component needs to be constant indepedent of the $P$ value, which can only happen if it's stuck off to the right of $M'$ in the homogeneous component. So this means we know that for the system to be satisfied $R$ for the virtual camera must be $I$ and the translation must be $-t_{012}$!\n",
    "\n",
    "There is one last problem, which is dealing with the scale factor. This is a bit hand-wavy, but I believe that\n",
    "1. since the extrinsic matrix $M'$ has 6 degrees of freedom and\n",
    "2. since $\\phi M (P-t)$ has 2 degrees of freedom (vector in 3-space, minus one DoF for the scale factor)\n",
    "3. therefore we need to know three points on the object (assuming they're independent) that we want to match in order to rigidly specify the position of the virtual camera.\n",
    "\n",
    "Again, this is a little hand-wavy, but I think it makes sense from a counting-DoF perspective. You can also think about needing (non-collinear) 3 points in 3D space to fully specify a plane.\n",
    "\n",
    "Okay, the last part of the question is asking us to show that the original camera and virtual camera are **related by a skew-symmetric fundamental matrix**. We know the rotation matrix for the virtual camera is $I$ and the translation is $-t_{012} = - 2m_d \\hat{m}$. Therefore when we define the Fundamental matrix from the Essential matrix we will see that at it's root it is skew-symmetric because of the $[t]_{\\times}$ term in $E$.\n",
    "\n",
    "\\begin{align*}\n",
    "    F &= K^T E K \\\\\n",
    "    E &= R [t]_{\\times} \\\\\n",
    "    &= [-t_{012}]_{\\times} \\\\\n",
    "\\end{align*}\n",
    "\n",
    "So we know $E$ is skew-symmetric in this case, and therefore if $K^T E K$ is also skew-symmetric we are all good. The $K$ matrices are upper-triangular so I'll bet there are some identities that help us here, but I went for what I thought was easier and manipulated the equations symbolically in sympy. If you look at the sympy code and output below, this shows that for arbitrary values in $K$ and $[t]_{\\times}$ the end result is skew-symmetric. This means we are all good and $F$ is skew-symmetric for the situation described!"
   ]
  },
  {
   "cell_type": "code",
   "execution_count": 14,
   "metadata": {},
   "outputs": [
    {
     "name": "stdout",
     "output_type": "stream",
     "text": [
      "First, let's view F. Does it look skew-symmetric?:\n",
      "                   0             -c*fx*fy        fx*(b - c*cy)\n",
      "             c*fx*fy                    0       fy*(-a + c*cx)\n",
      "      fx*(-b + c*cy)        fy*(a - c*cx)                    0\n",
      "\n",
      "Another tactic. F + F^T. If this is zero, F is skew-symmetric!\n",
      "Matrix([[0, 0, 0], [0, 0, 0], [0, 0, 0]])\n"
     ]
    }
   ],
   "source": [
    "import numpy\n",
    "from sympy import Matrix, Symbol, simplify\n",
    "\n",
    "\n",
    "# Define K\n",
    "fx = Symbol(\"fx\")\n",
    "fy = Symbol(\"fy\")\n",
    "cx = Symbol(\"cx\")\n",
    "cy = Symbol(\"cy\")\n",
    "K = Matrix([\n",
    "    [fx, 0, cx],\n",
    "    [0, fy, cy],\n",
    "    [0,  0,  1],\n",
    "])\n",
    "\n",
    "# Define E\n",
    "a = Symbol(\"a\")\n",
    "b = Symbol(\"b\")\n",
    "c = Symbol(\"c\")\n",
    "E = Matrix([\n",
    "    [ 0, -c,  b],\n",
    "    [ c,  0, -a],\n",
    "    [-b,  a,  0],\n",
    "])\n",
    "\n",
    "# Combine them (for arbitrary values)\n",
    "KEK = simplify(K.transpose() * E * K)\n",
    "\n",
    "# First off, let's try and view the matrix\n",
    "print(\"First, let's view F. Does it look skew-symmetric?:\")\n",
    "for row in numpy.array(KEK):\n",
    "    print(\"{:>20} {:>20} {:>20}\".format(*[str(r) for r in row]))\n",
    "print(\"\")\n",
    "\n",
    "print(f\"Another tactic. F + F^T. If this is zero, F is skew-symmetric!\\n{simplify(KEK + KEK.transpose())}\")"
   ]
  },
  {
   "cell_type": "markdown",
   "metadata": {
    "deletable": false,
    "editable": false,
    "nbgrader": {
     "cell_type": "markdown",
     "checksum": "4a79836003d68698b32bff3fb16e553a",
     "grade": false,
     "grade_id": "cell-dbed38f544a88ed5",
     "locked": true,
     "schema_version": 3,
     "solution": false,
     "task": false
    }
   },
   "source": [
    "# Coding Questions (30 pt)"
   ]
  },
  {
   "cell_type": "markdown",
   "metadata": {
    "deletable": false,
    "nbgrader": {
     "cell_type": "markdown",
     "checksum": "f15ddd7b79f422417b55e7cc89e39794",
     "grade": true,
     "grade_id": "cell-5a62694e7d76b858",
     "locked": false,
     "points": 2,
     "schema_version": 3,
     "solution": true,
     "task": false
    }
   },
   "source": [
    "### Q1.1: The Eight Point Algorithm\n",
    "\n",
    "<span style='color:red'>**Output:**</span> In your write-up: Write your recovered $\\textbf{F}$ and include an image of some example outputs of displayEpipolarF.\n",
    "\n",
    "YOUR ANSWER HERE"
   ]
  },
  {
   "cell_type": "markdown",
   "metadata": {
    "deletable": false,
    "nbgrader": {
     "cell_type": "markdown",
     "checksum": "9b3fb684b89aefccec51c2008fd0eaca",
     "grade": true,
     "grade_id": "cell-fa25f5e12e09cf01",
     "locked": false,
     "points": 5,
     "schema_version": 3,
     "solution": true,
     "task": false
    }
   },
   "source": [
    "### Q1.2: The Seven Point Algorithm\n",
    "<span style='color:red'>**Output:**</span> In your write-up: Print your recovered $\\textbf{F}$ and include an image output of `displayEpipolarF`.\n",
    "\n",
    "YOUR ANSWER HERE"
   ]
  },
  {
   "cell_type": "markdown",
   "metadata": {
    "deletable": false,
    "nbgrader": {
     "cell_type": "markdown",
     "checksum": "987a23f38772f7e51396f83c1e4422a3",
     "grade": true,
     "grade_id": "cell-0901094d90d5ee50",
     "locked": false,
     "points": 5,
     "schema_version": 3,
     "solution": true,
     "task": false
    }
   },
   "source": [
    "### Q2.2 Triangulation and find M2 \n",
    "\n",
    "<span style='color:red'>**Output:**</span> In your write-up: Write down the expression for the matrix $\\mathbf{A}_i$\n",
    "\n",
    "YOUR ANSWER HERE"
   ]
  },
  {
   "cell_type": "markdown",
   "metadata": {
    "deletable": false,
    "nbgrader": {
     "cell_type": "markdown",
     "checksum": "67c45385147d9268ff59e77d9bde9e5e",
     "grade": true,
     "grade_id": "cell-12709527c18b3146",
     "locked": false,
     "points": 5,
     "schema_version": 3,
     "solution": true,
     "task": false
    }
   },
   "source": [
    "### Q2.3 Epipolar Correspondence\n",
    "\n",
    "<span style='color:red'>**Output:**</span> In your write-up, include a screenshot of `epipolarMatchGUI`\n",
    "with some detected correspondences.\n",
    "\n",
    "\n",
    "YOUR ANSWER HERE"
   ]
  },
  {
   "cell_type": "markdown",
   "metadata": {
    "deletable": false,
    "nbgrader": {
     "cell_type": "markdown",
     "checksum": "4c4001adbf37eb9dcc25149c1e08f3ab",
     "grade": true,
     "grade_id": "cell-5ef8e705d153cda0",
     "locked": false,
     "points": 3,
     "schema_version": 3,
     "solution": true,
     "task": false
    }
   },
   "source": [
    "### Q2.4 3D Visualization\n",
    "\n",
    "<span style='color:red'>**Output:**</span> In your write-up: Take a few screenshots of the 3D visualization\n",
    "so that the outline of the temple is clearly visible.\n",
    "\n",
    "YOUR ANSWER HERE"
   ]
  },
  {
   "cell_type": "markdown",
   "metadata": {
    "deletable": false,
    "nbgrader": {
     "cell_type": "markdown",
     "checksum": "7779b124a0b636e99859c8c9384b4b0b",
     "grade": true,
     "grade_id": "cell-776fd721d9eadbac",
     "locked": false,
     "points": 10,
     "schema_version": 3,
     "solution": true,
     "task": false
    }
   },
   "source": [
    "### Q3.3 Bundle Adjustment\n",
    "\n",
    "<span style='color:red'>**Output:**</span> In your write-up: include an image of output of the `plot_3D_dual` function by passing in the original 3D points and the optimized points. Also include the before and after reprojection error for the `rodriguesResidual` function.\n",
    "\n",
    "\n",
    "YOUR ANSWER HERE"
   ]
  }
 ],
 "metadata": {
  "kernelspec": {
   "display_name": "Python 3",
   "language": "python",
   "name": "python3"
  },
  "language_info": {
   "codemirror_mode": {
    "name": "ipython",
    "version": 3
   },
   "file_extension": ".py",
   "mimetype": "text/x-python",
   "name": "python",
   "nbconvert_exporter": "python",
   "pygments_lexer": "ipython3",
   "version": "3.8.10"
  },
  "toc": {
   "base_numbering": 1,
   "nav_menu": {},
   "number_sections": false,
   "sideBar": true,
   "skip_h1_title": false,
   "title_cell": "Table of Contents",
   "title_sidebar": "Contents",
   "toc_cell": false,
   "toc_position": {},
   "toc_section_display": true,
   "toc_window_display": true
  }
 },
 "nbformat": 4,
 "nbformat_minor": 2
}
