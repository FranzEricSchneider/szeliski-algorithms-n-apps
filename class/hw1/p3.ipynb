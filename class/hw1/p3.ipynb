{
 "cells": [
  {
   "cell_type": "code",
   "execution_count": 2,
   "metadata": {
    "deletable": false,
    "editable": false,
    "nbgrader": {
     "cell_type": "code",
     "checksum": "152654ca4e29024bbbd523af07d416bd",
     "grade": false,
     "grade_id": "cell-f9dcefb4613e6ab4",
     "locked": true,
     "schema_version": 3,
     "solution": false,
     "task": false
    }
   },
   "outputs": [],
   "source": [
    "# DO NOT MODIFY! helper functions and constants\n",
    "import nbimporter\n",
    "from p1 import cv2, np, plt, math\n",
    "from p1 import get_parameters, Gauss2D, filter_image_vec\n",
    "from p2 import edge_detection_nms\n",
    "\n",
    "image_list, constants = get_parameters()\n",
    "\n",
    "#----------------------------------------------------------------------\n",
    "def visualize(image_name, constants):\n",
    "    image_rgb = cv2.cvtColor(cv2.imread(image_name), cv2.COLOR_BGR2RGB)\n",
    "    print(\"-\" * 50 + \"\\n\" + \"Original Image:\")\n",
    "    plt.imshow(image_rgb); plt.show() # Displaying the sample image\n",
    "    \n",
    "    image = cv2.cvtColor(image_rgb, cv2.COLOR_RGB2GRAY)\n",
    "    image_m, image_o, image_x, image_y = edge_detection_nms(image, constants.sigma)\n",
    "    \n",
    "    print(\"-\" * 50 + \"\\n\" + \"Edge Image:\")\n",
    "    plt.imshow(image_m, cmap=\"gray\"); plt.show() # Displaying the sample image\n",
    "    \n",
    "    image_m_thres = 1.0*(image_m > constants.thres) # threshold the edge magnitude image\n",
    "    print(\"-\" * 50 + \"\\n\" + \"Thresholded Edge Image:\")\n",
    "    plt.imshow(image_m_thres, cmap=\"gray\"); plt.show() # Displaying the sample image\n",
    "    \n",
    "    #--------------hough transform----------------\n",
    "    H, rho_arr, theta_arr = hough_transform(image_m, constants.thres, constants.rho_res, constants.theta_res)   \n",
    "    peak_rho_arr, peak_theta_arr = peak_hough_lines(H, rho_arr, theta_arr, constants.num_lines)\n",
    "    \n",
    "    #--------------vis using infinitely long lines----------------------------\n",
    "    vis_line_len = 1000 # len of line in pixels, big enough to span the image\n",
    "    vis_image_rgb = np.copy(image_rgb)\n",
    "    for (rho, theta) in zip(peak_rho_arr, peak_theta_arr):\n",
    "        x0 = rho*np.cos(theta); y0 = rho*np.sin(theta)\n",
    "        x1 = int(x0 - vis_line_len*np.sin(theta)); y1 = int(y0 + vis_line_len*np.cos(theta))\n",
    "        x2 = int(x0 + vis_line_len*np.sin(theta)); y2 = int(y0 - vis_line_len*np.cos(theta)); \n",
    "        cv2.line(vis_image_rgb, (x1, y1), (x2, y2), (0, 255, 0), 2)\n",
    "    \n",
    "    #---------------------------------------------\n",
    "    print(\"-\" * 50 + \"\\n\" + \"Edge Image:\")\n",
    "    plt.imshow(vis_image_rgb); plt.show() # Displaying the sample image\n",
    "    \n",
    "    return"
   ]
  },
  {
   "cell_type": "markdown",
   "metadata": {
    "deletable": false,
    "editable": false,
    "nbgrader": {
     "cell_type": "markdown",
     "checksum": "46d9a54423a31cacf405cceaccc0c77b",
     "grade": false,
     "grade_id": "q3_1",
     "locked": true,
     "schema_version": 3,
     "solution": false,
     "task": false
    }
   },
   "source": [
    "### Q3.1 Hough Transform (15 points)\n",
    "\n",
    "Write a function that applies the Hough Transform to an edge magnitude image.  \n",
    "\n",
    "```\n",
    "  def hough_transform(image_m, thres, rho_res, theta_res):\n",
    "        return H, rho_arr, theta_arr\n",
    "```\n",
    "\n",
    "- **Input**: the edge magnitude image *$image\\_m$*, scalar *$thres$* to threshold *$image\\_m$* into a binary array, scalars *$rho\\_res$* and *$theta\\_res$* are the resolution of the Hough Transform accumulator along the $\\rho$ and $\\theta$ axes respectively.\n",
    "- **Output**: *$H$* is the Hough Transform accumulator, *$rho\\_arr$* and *$theta\\_arr$* are the arrays of $\\rho$ and $\\theta$ values over which *$H$* is computed. \n",
    "\n",
    "**Instructions**\n",
    "- Your code cannot call pre-existing functions for Hough Transform.\n",
    "- We threshold the edge magnitude image first to identify pixels which likely are an edge\n",
    "- rho_res is the resolution of the rho space, theta_res is the resolution of the theta space in degrees\n",
    "- rho_arr goes from -rho_max to rho_max in rho_res steps, including the end points!\n",
    "- theta_arr goes from 0 to pi in theta_res steps, including the end points! Note: theta_arr is in radians not degrees!\n",
    "- Refer the slides for Hough Transform for the algorithm\n",
    "\n",
    "**Grading**\n",
    "- Your code will be autograded with 3 images. \n",
    "- The outputs of the function will be compared with the outputs of a reference implementation with an error threshold of 1e-5."
   ]
  },
  {
   "cell_type": "code",
   "execution_count": 8,
   "metadata": {
    "deletable": false,
    "nbgrader": {
     "cell_type": "code",
     "checksum": "b7cad12c6d428982a660eb2c5040f8a7",
     "grade": false,
     "grade_id": "q3_1_code",
     "locked": false,
     "schema_version": 3,
     "solution": true,
     "task": false
    }
   },
   "outputs": [
    {
     "name": "stdout",
     "output_type": "stream",
     "text": [
      "[[   0.       0.     806.381  510.     806.381    0.       0.   ]\n",
      " [   0.       0.    1020.       0.    1020.       0.       0.   ]\n",
      " [ 806.381 1020.    1081.873  510.    1081.873 1020.     806.381]\n",
      " [ 510.       0.     510.       0.     510.       0.     510.   ]\n",
      " [ 806.381 1020.    1081.873  510.    1081.873 1020.     806.381]\n",
      " [   0.       0.    1020.       0.    1020.       0.       0.   ]\n",
      " [   0.       0.     806.381  510.     806.381    0.       0.   ]]\n",
      "H\n",
      "[[0 0 0 0 0 0 0 0 0 0 0]\n",
      " [0 0 0 0 0 0 0 0 0 0 0]\n",
      " [0 0 0 0 0 0 0 0 0 1 3]\n",
      " [0 0 0 0 0 0 0 0 2 6 7]\n",
      " [0 0 0 0 0 0 1 5 7 6 6]\n",
      " [4 1 0 0 1 2 6 6 6 6 4]\n",
      " [6 6 6 6 6 8 6 7 5 1 0]\n",
      " [8 6 6 6 6 8 6 2 0 0 0]\n",
      " [2 7 7 7 7 2 1 0 0 0 0]\n",
      " [0 0 1 1 0 0 0 0 0 0 0]\n",
      " [0 0 0 0 0 0 0 0 0 0 0]]\n",
      "rho_arr\n",
      "[-10.  -8.  -6.  -4.  -2.   0.   2.   4.   6.   8.  10.]\n",
      "theta_arr\n",
      "[0.    0.314 0.628 0.942 1.257 1.571 1.885 2.199 2.513 2.827 3.142]\n"
     ]
    }
   ],
   "source": [
    "def hough_transform(image_m, thres, rho_res, theta_res):\n",
    "    \"\"\"Compute Hough Transform for the image\n",
    "\n",
    "    Args:\n",
    "        image_m: np.array, HxW, edge magnitude image.\n",
    "        thres: float, scalar to threshold image_m\n",
    "        rho_res: integer, resolution of rho\n",
    "        theta_res: integer, resolution of theta in degrees\n",
    "        \n",
    "    Returns:\n",
    "        H: np.array, (num of rhos x num of thetas), hough transform accumulator (rho x theta), NOT theta x rho!\n",
    "        rho_arr: np.array, dim=num of rhos, quantized rhos\n",
    "        theta_arr: np.array, dim=num of thetas, quantized thetas\n",
    "    \"\"\"\n",
    "    \n",
    "    image_m_thres = 1.0*(image_m > thres) # threshold the edge magnitude image\n",
    "    height, width = image_m_thres.shape # image height and width \n",
    "    diagonal_len = np.ceil(np.sqrt(height**2 + width**2)) # image diagonal = rho_max   \n",
    "    rho_max = float(diagonal_len)\n",
    "    \n",
    "    # compute rho_arr, we go from [-rho_max to rho_max] in rho_res steps\n",
    "    rho_arr = np.linspace(\n",
    "        start=-rho_max,\n",
    "        stop=rho_max,\n",
    "        num=int((2 * rho_max / rho_res) + 1),\n",
    "    )\n",
    "\n",
    "    # compute theta_arr, we go from [0, pi] in theta_res steps, NOT [-pi/2, pi/2]!\n",
    "    # Note theta_res is in degrees but theta_scale should be in radians [0, pi]\n",
    "    theta_arr = np.linspace(\n",
    "        start=0,\n",
    "        stop=np.pi,\n",
    "        num=int((180 / theta_res) + 1),\n",
    "    )\n",
    "    \n",
    "    H = np.zeros((len(rho_arr), len(theta_arr)), dtype=np.int32)\n",
    "    \n",
    "    # find all edge (nonzero) pixel indexes\n",
    "    y_idxs, x_idxs = image_m_thres.nonzero() \n",
    "    \n",
    "    for x, y in zip(x_idxs, y_idxs):\n",
    "        for theta_idx, theta in enumerate(theta_arr):\n",
    "            # compute rho_idx, note, theta is in radians!\n",
    "            # Hint: compute rho first from theta, round it to nearest rho_prime in rho_arr\n",
    "            # and then find rho_prime's rho_idx (index of rho_prime in rho_arr, NOT index of rho!)\n",
    "\n",
    "            # distance = pixel.dot([cos, sin]) took  me a while to get, but it works if you\n",
    "            # define theta starting from +x to the *perpendicular* line, then you see that\n",
    "            # (y = -x cos / sin + dist / sin) works out exactly like mx + b, where a 90deg triangle\n",
    "            # is formed with th y-axis, making b = dist / sin. Then you rearrange that line formula\n",
    "            # to get dist.\n",
    "\n",
    "            # TODO: Which X and Y are correct? Axes are unclear\n",
    "            rho = x * np.cos(theta) + y * np.sin(theta)\n",
    "            rho_idx = np.argmin(np.abs(rho_arr - rho))\n",
    "            \n",
    "            H[rho_idx, theta_idx] += 1\n",
    "    \n",
    "    return H, rho_arr, theta_arr\n",
    "\n",
    "\n",
    "# np.set_printoptions(suppress=True, precision=3)\n",
    "# image = np.zeros((7, 7))\n",
    "# image[3, :] = 255\n",
    "# image[:, 3] = 255\n",
    "# image_m, image_o, image_x, image_y = edge_detection_nms(image, 0.1)\n",
    "# print(image_m)\n",
    "# H, rho_arr, theta_arr = hough_transform(image_m, thres=700, rho_res=2, theta_res=18)\n",
    "# print(f\"H\\n{H}\")\n",
    "# print(f\"rho_arr\\n{rho_arr}\")\n",
    "# print(f\"theta_arr\\n{theta_arr}\")\n",
    "# output = np.zeros((7, 7))\n",
    "\n",
    "# empty = np.zeros(image.shape)\n",
    "# for rho_idx, theta_idx in np.argwhere(H == 8):\n",
    "#     print(f\"Line -- distance: {rho_arr[rho_idx]}, angle: {theta_arr[theta_idx]}\")\n",
    "\n",
    "#     rho = rho_arr[rho_idx]\n",
    "#     theta = theta_arr[theta_idx]\n",
    "#     vis_line_len = 100\n",
    "#     x0 = rho*np.cos(theta); y0 = rho*np.sin(theta)\n",
    "#     x1 = int(x0 - vis_line_len*np.sin(theta)); y1 = int(y0 + vis_line_len*np.cos(theta))\n",
    "#     x2 = int(x0 + vis_line_len*np.sin(theta)); y2 = int(y0 - vis_line_len*np.cos(theta)); \n",
    "#     cv2.line(empty, (x1, y1), (x2, y2), 125, 1)\n",
    "\n",
    "# print(empty)"
   ]
  },
  {
   "cell_type": "markdown",
   "metadata": {
    "deletable": false,
    "editable": false,
    "nbgrader": {
     "cell_type": "markdown",
     "checksum": "ab5c9e4312f7e328577d7a4e72297095",
     "grade": false,
     "grade_id": "q_3_2",
     "locked": true,
     "schema_version": 3,
     "solution": false,
     "task": false
    }
   },
   "source": [
    "### Q3.2 Finding Lines (5 points)\n",
    "Write a function that outputs the indices of the local maxima in Hough Transform accumulator.\n",
    "\n",
    "```\n",
    "  def peak_hough_lines(H, rho_arr, theta_arr, num_lines):\n",
    "        return peak_rho_arr, peak_theta_arr\n",
    "\n",
    "```\n",
    "\n",
    "- **Input**: *$H$* is the accumulator matrix (rhos x thetas), *$rho\\_arr$* and *$theta\\_arr$* are the quantized rho and theta arrays, *$num\\_lines$* is a scalar - number of most prominent lines we wish to detect in the image.\n",
    "- **Output**: *$peak\\_rho\\_arr$*, *$peak\\_theta\\_arr$* - top num_lines rhos and thetas.\n",
    "\n",
    "**Instructions**\n",
    "- Sort the accumulator H to obtain the top N(num_lines) lines\n",
    "- Output the rho and theta corresponding to these lines\n",
    "- We recommend using np.argsort for sorting. This ensures you have consistent tie breaks same as the reference implementation used by autograder.\n",
    "\n",
    "**Grading** Same as Q3.1"
   ]
  },
  {
   "cell_type": "code",
   "execution_count": 7,
   "metadata": {
    "deletable": false,
    "nbgrader": {
     "cell_type": "code",
     "checksum": "b94226def3f0cb1440c1efc6f9fc043f",
     "grade": false,
     "grade_id": "q3_2_code",
     "locked": false,
     "schema_version": 3,
     "solution": true,
     "task": false
    },
    "scrolled": false
   },
   "outputs": [
    {
     "name": "stdout",
     "output_type": "stream",
     "text": [
      "[[  0.   0.   0.   0. 255.   0.   0.   0.   0.]\n",
      " [  0.   0.   0.   0. 255.   0.   0.   0.   0.]\n",
      " [  0.   0.   0.   0. 255.   0.   0.   0.   0.]\n",
      " [255. 255. 255. 255. 255. 255. 255. 255. 255.]\n",
      " [  0.   0.   0.   0. 255.   0.   0.   0.   0.]\n",
      " [  0.   0.   0.   0. 255.   0.   0.   0.   0.]\n",
      " [  0.   0.   0.   0. 255.   0.   0.   0.   0.]]\n",
      "[[ 0  0  0  0  0  0  0  0  0  0  0]\n",
      " [ 0  0  0  0  0  0  0  0  0  0  0]\n",
      " [ 0  0  0  0  0  0  0  0  0  0  3]\n",
      " [ 0  0  0  0  0  0  0  0  1  5  6]\n",
      " [ 0  0  0  0  0  0  0  1  6  6  5]\n",
      " [ 0  0  0  0  0  0  1  7  7  7  6]\n",
      " [ 4  1  0  0  1  2  8  6  6  5  4]\n",
      " [ 8  5  5  6  7 10  8  8  4  1  0]\n",
      " [ 6  7  7  7  8 10  7  2  0  0  0]\n",
      " [ 4  7  7  8  7  2  0  0  0  0  0]\n",
      " [ 2  4  5  3  1  0  0  0  0  0  0]\n",
      " [ 0  0  0  0  0  0  0  0  0  0  0]\n",
      " [ 0  0  0  0  0  0  0  0  0  0  0]]\n",
      "rho_arr [-12. -10.  -8.  -6.  -4.  -2.   0.   2.   4.   6.   8.  10.  12.]\n",
      "theta_arr [0.    0.314 0.628 0.942 1.257 1.571 1.885 2.199 2.513 2.827 3.142]\n",
      "Top four (rho, then theta)\n",
      "[2. 6. 4. 2.]\n",
      "[0.    0.942 1.571 1.571]\n"
     ]
    }
   ],
   "source": [
    "def peak_hough_lines(H, rho_arr, theta_arr, num_lines):\n",
    "    \"\"\"Returns the rhos and thetas corresponding to top local maximas in the accumulator H\n",
    "\n",
    "    Args:\n",
    "        H: np.array, (num of rhos x num of thetas), hough transform accumulator\n",
    "        rho_arr: np.array, dim=num of rhos, quantized rhos\n",
    "        theta_arr: np.array, dim=num of thetas, quantized thetas\n",
    "        num_lines: integer, number of lines we wish to detect in the image\n",
    "        \n",
    "    Returns:\n",
    "        peak_rho_arr: np.array, dim=num_lines, top num_lines rhos by votes in the H\n",
    "        peak_theta_arr: np.array, dim=num_lines, top num_lines thetas by votes in the H\n",
    "    \"\"\"\n",
    "    \n",
    "    # compute peak_rho_arr and peak_theta_arr\n",
    "    # sort H using np.argsort, pick the top num_lines lines\n",
    "    stride = len(theta_arr)\n",
    "    sorted_flat = np.argsort(H, axis=None)[-num_lines:]\n",
    "    peak_rho_arr = rho_arr[sorted_flat // stride]\n",
    "    peak_theta_arr = theta_arr[sorted_flat % stride]\n",
    "\n",
    "    assert(len(peak_rho_arr) == num_lines)\n",
    "    assert(len(peak_theta_arr) == num_lines)\n",
    "    return peak_rho_arr, peak_theta_arr\n",
    "\n",
    "\n",
    "np.set_printoptions(suppress=True, precision=3)\n",
    "image = np.zeros((7, 9))\n",
    "image[3, :] = 255\n",
    "image[:, 4] = 255\n",
    "print(image)\n",
    "image_m, image_o, image_x, image_y = edge_detection_nms(image, 0.1)\n",
    "H, rho_arr, theta_arr = hough_transform(image_m, thres=700, rho_res=2, theta_res=18)\n",
    "print(H)\n",
    "peak_rho_arr, peak_theta_arr = peak_hough_lines(H, rho_arr, theta_arr, num_lines=4)\n",
    "print(\"rho_arr\", rho_arr)\n",
    "print(\"theta_arr\", theta_arr)\n",
    "print(\"Top four (rho, then theta)\")\n",
    "print(peak_rho_arr)\n",
    "print(peak_theta_arr)\n",
    "\n",
    "# for image_idx in range(0, len(image_list)):\n",
    "# image_idx = 0\n",
    "# print(f\"IMAGE {image_idx + 1} / {len(image_list)}\")\n",
    "# visualize(image_list[image_idx], constants)"
   ]
  },
  {
   "cell_type": "markdown",
   "metadata": {
    "deletable": false,
    "editable": false,
    "nbgrader": {
     "cell_type": "markdown",
     "checksum": "e00cc527a08bf0faffd3d1eefe78dda0",
     "grade": false,
     "grade_id": "cell-ea8462d981312c77",
     "locked": true,
     "schema_version": 3,
     "solution": false,
     "task": false
    }
   },
   "source": [
    "### Test Q3.1 and Q3.2"
   ]
  },
  {
   "cell_type": "code",
   "execution_count": null,
   "metadata": {
    "deletable": false,
    "editable": false,
    "nbgrader": {
     "cell_type": "code",
     "checksum": "7ebcb14c04cdd533779fb5f787b465b0",
     "grade": false,
     "grade_id": "q3_test",
     "locked": true,
     "schema_version": 3,
     "solution": false,
     "task": false
    }
   },
   "outputs": [],
   "source": [
    "### Uncomment for visualization\n",
    "# image_idx = np.random.randint(0, len(image_list))\n",
    "# visualize(image_list[image_idx], constants)"
   ]
  },
  {
   "cell_type": "markdown",
   "metadata": {
    "deletable": false,
    "editable": false,
    "nbgrader": {
     "cell_type": "markdown",
     "checksum": "d30ed01789890cc4d4f384c8ac6c6661",
     "grade": false,
     "grade_id": "cell-c8974a8d73525376",
     "locked": true,
     "schema_version": 3,
     "solution": false,
     "task": false
    }
   },
   "source": [
    "### Autograde Q3.1\n",
    "5 points per test case, 3 test cases"
   ]
  },
  {
   "cell_type": "code",
   "execution_count": null,
   "metadata": {
    "deletable": false,
    "editable": false,
    "nbgrader": {
     "cell_type": "code",
     "checksum": "2a294cf5551104c62354f995edd42f85",
     "grade": true,
     "grade_id": "cell-4d50768b410d26a7",
     "locked": true,
     "points": 0,
     "schema_version": 3,
     "solution": false,
     "task": false
    }
   },
   "outputs": [],
   "source": []
  },
  {
   "cell_type": "code",
   "execution_count": null,
   "metadata": {
    "deletable": false,
    "editable": false,
    "nbgrader": {
     "cell_type": "code",
     "checksum": "9bd845ee80554b90cbf213250f2406e9",
     "grade": true,
     "grade_id": "q3_1_t1",
     "locked": true,
     "points": 5,
     "schema_version": 3,
     "solution": false,
     "task": false
    }
   },
   "outputs": [],
   "source": []
  },
  {
   "cell_type": "code",
   "execution_count": null,
   "metadata": {
    "deletable": false,
    "editable": false,
    "nbgrader": {
     "cell_type": "code",
     "checksum": "bb0c6c9ceee1a124a1b31ef17d6fea14",
     "grade": true,
     "grade_id": "q3_1_t2",
     "locked": true,
     "points": 5,
     "schema_version": 3,
     "solution": false,
     "task": false
    }
   },
   "outputs": [],
   "source": []
  },
  {
   "cell_type": "code",
   "execution_count": null,
   "metadata": {
    "deletable": false,
    "editable": false,
    "nbgrader": {
     "cell_type": "code",
     "checksum": "90356e5814d68ff20061cfa5b37450b4",
     "grade": true,
     "grade_id": "q3_1_t3",
     "locked": true,
     "points": 5,
     "schema_version": 3,
     "solution": false,
     "task": false
    }
   },
   "outputs": [],
   "source": []
  },
  {
   "cell_type": "markdown",
   "metadata": {
    "deletable": false,
    "editable": false,
    "nbgrader": {
     "cell_type": "markdown",
     "checksum": "726ccb2a86dabb606385cf6aa8e42c04",
     "grade": false,
     "grade_id": "cell-74c33bddea2c54a4",
     "locked": true,
     "schema_version": 3,
     "solution": false,
     "task": false
    }
   },
   "source": [
    "### Autograde Q3.2\n",
    "5 points per test case, 1 test case"
   ]
  },
  {
   "cell_type": "code",
   "execution_count": null,
   "metadata": {
    "deletable": false,
    "editable": false,
    "nbgrader": {
     "cell_type": "code",
     "checksum": "2511d945fa9a9c33001c724e4e68ad02",
     "grade": true,
     "grade_id": "q3_2_t1",
     "locked": true,
     "points": 5,
     "schema_version": 3,
     "solution": false,
     "task": false
    }
   },
   "outputs": [],
   "source": []
  }
 ],
 "metadata": {
  "kernelspec": {
   "display_name": "Python 3",
   "language": "python",
   "name": "python3"
  },
  "language_info": {
   "codemirror_mode": {
    "name": "ipython",
    "version": 3
   },
   "file_extension": ".py",
   "mimetype": "text/x-python",
   "name": "python",
   "nbconvert_exporter": "python",
   "pygments_lexer": "ipython3",
   "version": "3.9.7"
  },
  "toc": {
   "base_numbering": 1,
   "nav_menu": {},
   "number_sections": true,
   "sideBar": true,
   "skip_h1_title": false,
   "title_cell": "Table of Contents",
   "title_sidebar": "Contents",
   "toc_cell": false,
   "toc_position": {
    "height": "calc(100% - 180px)",
    "left": "10px",
    "top": "150px",
    "width": "384px"
   },
   "toc_section_display": true,
   "toc_window_display": true
  }
 },
 "nbformat": 4,
 "nbformat_minor": 4
}
