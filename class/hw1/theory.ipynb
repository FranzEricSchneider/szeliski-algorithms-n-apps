{
 "cells": [
  {
   "cell_type": "markdown",
   "metadata": {
    "deletable": false,
    "editable": false,
    "nbgrader": {
     "cell_type": "markdown",
     "checksum": "88368d998ae6f13b66528ed7450a5e6c",
     "grade": false,
     "grade_id": "header",
     "locked": true,
     "schema_version": 3,
     "solution": false,
     "task": false
    }
   },
   "source": [
    "<img align=\"center\" src=\"data/handout/course.png\" width=\"800\">\n",
    "\n",
    "## Hough Transform - Assignment 1\n",
    "    Instructor: Kris                          TAs: Rawal (Lead), Yan, Zen, Wen-Hsuan, Paritosh, Qichen\n",
    "\n",
    "In this assignment you will be implementing a Hough Transform based line detector. \n",
    "\n",
    "<img align=\"center\" src=\"data/handout/ht.gif\" width=\"500\">"
   ]
  },
  {
   "cell_type": "markdown",
   "metadata": {
    "deletable": false,
    "editable": false,
    "nbgrader": {
     "cell_type": "markdown",
     "checksum": "e7774173427921d9605c9d2d8c92b534",
     "grade": false,
     "grade_id": "cell-ee45598a54db40ca",
     "locked": true,
     "schema_version": 3,
     "solution": false,
     "task": false
    }
   },
   "source": [
    "---\n",
    "## Theory Questions (25 points)\n",
    "**Grading**: \n",
    "- Each question is 5 points. \n",
    "- Please add your answers to the writeup. Insert images whenever necessary.\n",
    "- Show all your work to obtain full credit."
   ]
  },
  {
   "cell_type": "markdown",
   "metadata": {
    "deletable": false,
    "editable": false,
    "nbgrader": {
     "cell_type": "markdown",
     "checksum": "6d8a7b9a156280b230e157fb68b81da1",
     "grade": false,
     "grade_id": "theory_q1",
     "locked": true,
     "schema_version": 3,
     "solution": false,
     "task": false
    }
   },
   "source": [
    "**Q1**: Show that using $ x\\cos \\theta + y \\sin \\theta - \\rho = 0 $, each image point $(x, y)$ results in a sinsuoid in $(\\rho, \\theta)$ hough space.  \n",
    "Use the formulation, $a \\sin \\theta + b \\cos \\theta = A \\sin(\\theta + \\phi)$ for the sinsuoid.  \n",
    "Write the amplitude \\\\(A \\\\) and phase \\\\( \\phi \\\\) of the sinusoid as a function of \\\\( (x, y) \\\\). "
   ]
  },
  {
   "cell_type": "markdown",
   "metadata": {
    "deletable": false,
    "nbgrader": {
     "cell_type": "markdown",
     "checksum": "b2fff622dd362c71d4a7709f51ac1b55",
     "grade": true,
     "grade_id": "theory_q1_ans",
     "locked": false,
     "points": 5,
     "schema_version": 3,
     "solution": true,
     "task": false
    }
   },
   "source": [
    "We can show that $ x\\cos \\theta + y \\sin \\theta - \\rho = 0 $ leads to a sinusoid in $(\\rho, \\theta)$ space. First off, let's put our y-axis value on one side:\n",
    "\n",
    "$ \\rho = x\\cos \\theta + y \\sin \\theta $\n",
    "\n",
    "Note that $x$ and $y$ are fixed values here, they are not variables. Using the identity $a \\sin \\theta + b \\cos \\theta = A \\sin(\\theta + \\phi)$, we can rewrite this as\n",
    "\n",
    "$ \\rho = x\\cos \\theta + y \\sin \\theta $\n",
    "$ \\rho = A \\sin(\\theta + \\phi) $\n",
    "\n",
    "Where $A$ and $\\phi$ are some function of $x$ and $y$, and are thus fixed values. So we know that each image point results in some $(\\theta, \\rho)$ sinusoid.\n",
    "\n",
    "==============================================\n",
    "\n",
    "Now let's solve for the relationship between $A, \\phi$ and $x, y$.\n",
    "\n",
    "$x\\cos \\theta + y \\sin \\theta = A \\sin(\\theta + \\phi)$\n",
    "\n",
    "There is a trig identity stating $\\sin(\\theta + \\phi) = \\sin(\\theta)\\cos(\\phi)+ \\cos(\\theta)\\sin(\\phi)$, so we can re-write this as\n",
    "\n",
    "$x\\cos \\theta + y \\sin \\theta = A \\sin(\\theta)\\cos(\\phi)+ A\\cos(\\theta)\\sin(\\phi)$\n",
    "\n",
    "So therefore\n",
    "\n",
    "$x = A\\sin(\\phi)$\n",
    "\n",
    "$y = A\\cos(\\phi)$\n",
    "\n",
    "We know that\n",
    "\n",
    "$x^2 + y^2 = A^2 \\sin^2 \\phi + A^2 \\cos^2 \\phi$\n",
    "\n",
    "$x^2 + y^2 = A^2 (\\sin^2 \\phi + \\cos^2 \\phi)$\n",
    "\n",
    "$x^2 + y^2 = A^2$\n",
    "\n",
    "So therefore $A = f(x, y)$, where\n",
    "\n",
    "$ f(x, y) = \\sqrt{ x^2 + y^2 } $\n",
    "\n",
    "And $\\phi = g(x, y)$, where\n",
    "\n",
    "$ g(x, y) = \\arcsin( x / f(x, y) ) $\n",
    "\n",
    "<!-- Note to self - I tested this equation for A and phi in the Q4 plot, looked good -->"
   ]
  },
  {
   "cell_type": "markdown",
   "metadata": {
    "deletable": false,
    "editable": false,
    "nbgrader": {
     "cell_type": "markdown",
     "checksum": "8f1899fd8b2e4e3dd9079c2447eed607",
     "grade": false,
     "grade_id": "theory_q2",
     "locked": true,
     "schema_version": 3,
     "solution": false,
     "task": false
    }
   },
   "source": [
    "**Q2**: Why do we parameterize the line in terms of \\\\(\\rho, \\theta\\\\) instead of slope and intercept \\\\((m, c)\\\\)?  \n",
    "Also write the slope \\\\(m\\\\) and intercept \\\\(c\\\\) as a function of \\\\(\\rho\\\\) and \\\\(\\theta\\\\). "
   ]
  },
  {
   "cell_type": "markdown",
   "metadata": {
    "deletable": false,
    "nbgrader": {
     "cell_type": "markdown",
     "checksum": "55f8ec0f1a1d3026da42762e3309b17e",
     "grade": true,
     "grade_id": "theory_q2_ans",
     "locked": false,
     "points": 5,
     "schema_version": 3,
     "solution": true,
     "task": false
    }
   },
   "source": [
    "In short, we parameterize the line in terms of the normal-form line equation to avoid the discontinuity when the slope goes straight up. As the angle goes from 89 to 91 degrees, the slope goes through positive infinity and then back through negative infinity. This will cause difficulties since in addition to being discontinuous it leads to an unbounded set of values for the slope. That means that the accumulator covering \\\\((m, c)\\\\) would need to be huge in order to cover infinite \\\\(m\\\\) values.\n",
    "\n",
    "==============================================\n",
    "\n",
    "$m$ is easy to state intuitively. $m$ (the slope) is defined as rise over run. In SOH CAH TOA, we know that $tan(\\theta) =$ opposite / adjacent, which is equivalent to rise / run. However, $\\theta$ is not really the angle of the line but is actually the angle perpendicular to the line. Thus $m = f(\\theta, \\rho) = tan(\\theta + \\pi/2)$.\n",
    "\n",
    "$c$ (the y-intercept) is the line evaluated at $x=0$. Let's pull up the normal equation of the line:\n",
    "\n",
    "$ \\rho = x\\cos \\theta + y \\sin \\theta $\n",
    "\n",
    "Now we can insert $y = mx + c$ and solve for when $x = 0$:\n",
    "\n",
    "$ \\rho = x\\cos \\theta + (mx + c) \\sin \\theta $\n",
    "\n",
    "$ \\rho = c \\sin \\theta $\n",
    "\n",
    "$ c = g(\\theta, \\rho) = \\rho / \\sin \\theta $\n",
    "\n",
    "<!-- Checked this by hand on a few values -->"
   ]
  },
  {
   "cell_type": "markdown",
   "metadata": {
    "deletable": false,
    "editable": false,
    "nbgrader": {
     "cell_type": "markdown",
     "checksum": "576d611c2a9de50619a0596b22673783",
     "grade": false,
     "grade_id": "theory_q3",
     "locked": true,
     "schema_version": 3,
     "solution": false,
     "task": false
    }
   },
   "source": [
    "**Q3**: Assume the image points \\\\((x, y)\\\\) are in an image of width \\\\(W\\\\) and height \\\\(H\\\\), \\\\(x \\in [1, W], y \\in [1, H]\\\\).  \n",
    "What is the maximum absolute value of \\\\(\\rho\\\\) and what is the range of \\\\(\\theta\\\\)?"
   ]
  },
  {
   "cell_type": "markdown",
   "metadata": {
    "deletable": false,
    "nbgrader": {
     "cell_type": "markdown",
     "checksum": "57ae4a7360308f9ea4ffde5d34fa0a3e",
     "grade": true,
     "grade_id": "theory_q3_ans",
     "locked": false,
     "points": 5,
     "schema_version": 3,
     "solution": true,
     "task": false
    }
   },
   "source": [
    "Intuitively, the maximum perpendicular distance to any line based off a pixel in an image is the corner-to-corner distance. Even for the lines springing out of that far corner pixel $(W, H)$, the distance will be maximized when the line is angled so that the shortest perpendicular distance is measured from $(1, 1)$ to $(W, H)$.\n",
    "\n",
    "Put precisely, $\\rho_{max} = \\sqrt{ W^2 + H^2 }$\n",
    "\n",
    "==============================================\n",
    "\n",
    "I believe that the range of $\\theta$ should be 180 degrees, because the positive or negative values for $\\rho$ allow the representation of all lines within that 180 degree range. I think you could use either $\\theta = [-\\pi/2, \\pi/2]$ or $\\theta = [0, \\pi]$ as the actual range as long as you were consistent."
   ]
  },
  {
   "cell_type": "markdown",
   "metadata": {
    "deletable": false,
    "editable": false,
    "nbgrader": {
     "cell_type": "markdown",
     "checksum": "c504a8b632334522118747924e9e249e",
     "grade": false,
     "grade_id": "theory_q4",
     "locked": true,
     "schema_version": 3,
     "solution": false,
     "task": false
    }
   },
   "source": [
    "**Q4**: For points $(10, 10)$, $(15, 15)$ and $(30, 30)$ in the image, plot the corresponding sinusoid waves in Hough space $(\\rho, \\theta)$.  \n",
    "Also visualize how their intersection point defines the line (what is ($m, c$) for this line?).  \n",
    "Please add the plot as image."
   ]
  },
  {
   "cell_type": "code",
   "execution_count": 16,
   "metadata": {},
   "outputs": [
    {
     "data": {
      "image/png": "[encoded data removed]",
      "text/plain": [
       "<Figure size 432x288 with 1 Axes>"
      ]
     },
     "metadata": {
      "needs_background": "light"
     },
     "output_type": "display_data"
    }
   ],
   "source": [
    "import numpy\n",
    "from matplotlib import pyplot\n",
    "\n",
    "xy = ((10, 10), (15, 15), (30, 30))\n",
    "color = (\"r\", \"g\", \"b\")\n",
    "\n",
    "theta = numpy.linspace(0, numpy.pi, 1000)\n",
    "for (x, y), color in zip(xy, color):\n",
    "    pyplot.plot(theta,\n",
    "                x * numpy.cos(theta) + y * numpy.sin(theta),\n",
    "                color,\n",
    "                label=f\"{x},{y}\")\n",
    "pyplot.plot([0, numpy.pi], [0, 0], \"k--\", label=\"x=0\")\n",
    "pyplot.plot([3*numpy.pi/4]*2, [-30, 40], \"k-.\", label=\"y=3pi/4\")\n",
    "pyplot.xlabel(\"Theta (radians)\")\n",
    "pyplot.ylabel(\"Rho (distance) (pixels)\")\n",
    "pyplot.legend()\n",
    "\n",
    "pyplot.show()"
   ]
  },
  {
   "attachments": {},
   "cell_type": "markdown",
   "metadata": {
    "deletable": false,
    "nbgrader": {
     "cell_type": "markdown",
     "checksum": "a5145d792542757d2b951105d48cbbcb",
     "grade": true,
     "grade_id": "theory_q4_ans",
     "locked": false,
     "points": 5,
     "schema_version": 3,
     "solution": true,
     "task": false
    }
   },
   "source": [
    "As this image shows, the three given points have a single intersection in the parameter space along $\\theta = [0, \\pi]$. The intersection is at $\\rho = 0$ and $\\theta = 3 \\pi / 4$, which defines the line. In $mx + c$ representation, we have $m = 1$ and $c = 0$, it's a line with a slope of 1 that passes through the origin."
   ]
  },
  {
   "cell_type": "markdown",
   "metadata": {
    "deletable": false,
    "editable": false,
    "nbgrader": {
     "cell_type": "markdown",
     "checksum": "5cc16b8a2cb6668755507b6b2a4df324",
     "grade": false,
     "grade_id": "theory_q5",
     "locked": true,
     "schema_version": 3,
     "solution": false,
     "task": false
    }
   },
   "source": [
    "**Q5**: How does the dimension of parameter space affects Hough Transform method? What would you do when the parameter space is high, i.e., 3D or 4D instead of 2D? Briefly explain your method."
   ]
  },
  {
   "cell_type": "markdown",
   "metadata": {
    "deletable": false,
    "nbgrader": {
     "cell_type": "markdown",
     "checksum": "8c8bb0c0b11471122110f0a30f039b46",
     "grade": true,
     "grade_id": "theory_q5_ans",
     "locked": false,
     "points": 5,
     "schema_version": 3,
     "solution": true,
     "task": false
    }
   },
   "source": [
    "The Hough Transform could theoretically work in higher dimensions. You could make a make a 3D accumulator matrix based on your chosen parameters (perhaps $(\\theta, \\phi, \\rho)$ for 3D lines) and then for each point of interest you could go through the standard process of sweeping through the parameters and updating the accumulator accordingly. In this case you would sweep across both $\\theta$ and $\\phi$, calculate $\\rho$, and update that accumulator element. Then after all points are processed the maximum values in the accumulator could be chosen and evaluated.\n",
    "\n",
    "However, the Hough Transform in 3D seems pretty expensive both in terms of computation (we would have to sweep across $N-1$ axes for each point) and in terms of memory. If you had a 4D accumulator with 300 bins along each axis that would lead to a matrix with $300^4 = 8.1$ billion cells. The computation and storage costs really seem like they would blow up as you add dimensions."
   ]
  },
  {
   "cell_type": "code",
   "execution_count": null,
   "metadata": {},
   "outputs": [],
   "source": []
  }
 ],
 "metadata": {
  "kernelspec": {
   "display_name": "Python 3",
   "language": "python",
   "name": "python3"
  },
  "language_info": {
   "codemirror_mode": {
    "name": "ipython",
    "version": 3
   },
   "file_extension": ".py",
   "mimetype": "text/x-python",
   "name": "python",
   "nbconvert_exporter": "python",
   "pygments_lexer": "ipython3",
   "version": "3.9.7"
  },
  "toc": {
   "base_numbering": 1,
   "nav_menu": {},
   "number_sections": true,
   "sideBar": true,
   "skip_h1_title": false,
   "title_cell": "Table of Contents",
   "title_sidebar": "Contents",
   "toc_cell": false,
   "toc_position": {
    "height": "calc(100% - 180px)",
    "left": "10px",
    "top": "150px",
    "width": "384px"
   },
   "toc_section_display": true,
   "toc_window_display": true
  }
 },
 "nbformat": 4,
 "nbformat_minor": 4
}
