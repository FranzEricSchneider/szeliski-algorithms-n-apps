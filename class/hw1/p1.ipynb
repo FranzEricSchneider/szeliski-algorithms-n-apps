{
 "cells": [
  {
   "cell_type": "code",
   "execution_count": null,
   "metadata": {},
   "outputs": [],
   "source": []
  },
  {
   "cell_type": "markdown",
   "metadata": {
    "deletable": false,
    "editable": false,
    "nbgrader": {
     "cell_type": "markdown",
     "checksum": "25e25c496e4d0588b1a262cc00c674e3",
     "grade": false,
     "grade_id": "cell-7989d7168ee17aee",
     "locked": true,
     "schema_version": 3,
     "solution": false,
     "task": false
    }
   },
   "source": [
    "<img align=\"center\" src=\"data/handout/course.png\" width=\"800\">\n",
    "\n",
    "## Hough Transform - Assignment 1\n",
    "    Instructor: Kris                          TAs: Rawal (Lead), Yan, Zen, Wen-Hsuan, Paritosh, Qichen\n",
    "\n",
    "<img align=\"center\" src=\"data/handout/ht.gif\" width=\"500\">\n",
    "\n",
    "---\n",
    "## Programming Questions (75 points)\n",
    "The programming questions are split into 4 parts, p1, p2, p3 and p4."
   ]
  },
  {
   "cell_type": "code",
   "execution_count": null,
   "metadata": {
    "deletable": false,
    "editable": false,
    "nbgrader": {
     "cell_type": "code",
     "checksum": "bae763a18dfc8c92c81a4c00352b8162",
     "grade": false,
     "grade_id": "code1",
     "locked": true,
     "schema_version": 3,
     "solution": false,
     "task": false
    }
   },
   "outputs": [],
   "source": [
    "# DO NOT MODIFY! helper functions and constants\n",
    "import cv2\n",
    "import os\n",
    "import glob\n",
    "import numpy as np\n",
    "import math\n",
    "from matplotlib import pyplot as plt\n",
    "import matplotlib\n",
    "from scipy import signal\n",
    "from types import SimpleNamespace\n",
    "import time\n",
    "\n",
    "#----------------------------------------------------------------------\n",
    "def Gauss2D(kernel=(3,3),sigma=0.5):\n",
    "    m,n = [(ss-1.)/2. for ss in kernel]\n",
    "    y,x = np.ogrid[-m:m+1,-n:n+1]\n",
    "    h = np.exp( -(x*x + y*y) / (2.*sigma*sigma) )\n",
    "    h[ h < np.finfo(h.dtype).eps*h.max() ] = 0\n",
    "    sumh = h.sum()\n",
    "    if sumh != 0:\n",
    "        h /= sumh\n",
    "    return h\n",
    "\n",
    "#----------------------------------------------------------------------\n",
    "def visualize(function, image_name, kernel_size=(5, 5)):\n",
    "    image = cv2.cvtColor(cv2.imread(image_name), cv2.COLOR_BGR2RGB)\n",
    "    print(\"-\" * 50 + \"\\n\" + \"Original Image:\")\n",
    "    plt.imshow(image); plt.show() # Displaying the sample image\n",
    "    \n",
    "    image = cv2.cvtColor(image, cv2.COLOR_RGB2GRAY) # Convert image to grayscale\n",
    "    h_filter = Gauss2D(kernel_size, constants.sigma)\n",
    "    \n",
    "    image_filtered = function(image, h_filter) # testing\n",
    "    print(\"-\" * 50 + \"\\n\" + \"Filtered Image:\")\n",
    "    plt.imshow(image_filtered, cmap=\"gray\"); plt.show()\n",
    "    \n",
    "    reference_image_filtered = signal.convolve2d(image, h_filter, mode=\"same\")\n",
    "    print(\"-\" * 50 + \"\\n\" + \"Reference Filtered Image:\")\n",
    "    plt.imshow(reference_image_filtered, cmap=\"gray\"); plt.show()\n",
    "        \n",
    "    return\n",
    "\n",
    "#----------------------------------------------------------------------\n",
    "def test(function, image_name, kernel_size=(5, 5), threshold=1e-12):\n",
    "    image = cv2.cvtColor(cv2.imread(image_name), cv2.COLOR_BGR2GRAY) # Convert image to grayscale\n",
    "    h_filter = Gauss2D(kernel_size, constants.sigma)\n",
    "    image_filtered = function(image, h_filter) # testing \n",
    "    reference_image_filtered = signal.convolve2d(image, h_filter, mode=\"same\")\n",
    "    \n",
    "    error_arr = np.abs(reference_image_filtered - image_filtered)\n",
    "    print('error: {}'.format(error_arr.mean()))\n",
    "    assert(error_arr.mean() < threshold)\n",
    "    return error_arr.mean()\n",
    "\n",
    "#----------------------------------------------------------------------\n",
    "def get_parameters():\n",
    "    ##----------------------------------\n",
    "    datadir     = 'data'    # the directory containing the images\n",
    "    resultsdir  = 'results'  # the directory for dumping results\n",
    "\n",
    "    ##-----------parameters------------\n",
    "    constants = SimpleNamespace()\n",
    "    constants.sigma      = 1.5\n",
    "    constants.rho_res    = 1\n",
    "    constants.theta_res  = 1\n",
    "    constants.thres      = 30\n",
    "    constants.num_lines  = 50\n",
    "\n",
    "    image_list = []\n",
    "    for filename in glob.glob(datadir+'/*.jpg'):\n",
    "        image_list.append(filename)\n",
    "\n",
    "    image_list.sort()\n",
    "    return image_list, constants\n",
    "\n",
    "#----------------------------------------------------------------------\n",
    "image_list, constants = get_parameters()"
   ]
  },
  {
   "cell_type": "markdown",
   "metadata": {
    "deletable": false,
    "editable": false,
    "nbgrader": {
     "cell_type": "markdown",
     "checksum": "d2808fa0eb77bdbc5127b887fafd709b",
     "grade": false,
     "grade_id": "q1_1",
     "locked": true,
     "schema_version": 3,
     "solution": false,
     "task": false
    }
   },
   "source": [
    "### Q1.1 Convolution using nested FOR Loops (5 points)\n",
    "\n",
    "Write a function that convolves an image with a given convolution filter using nested FOR loops.\n",
    "\n",
    "\n",
    "```\n",
    "  def filter_image(image, h_filter):\n",
    "        return image_output\n",
    "```\n",
    "\n",
    "- **Input**: a grayscale image (*$image$*) and a convolution filter stored in matrix *$h\\_filter$*. \n",
    "- **Output**: an image *$image\\_output$* of the same size as *$image$* which results from convolving *$image$* with matrix *$h\\_filter$*. \n",
    "\n",
    "**Instructions**\n",
    "- You can assume that the matrix *$h\\_filter$* represents a Gaussian filter and is odd sized along both dimensions.\n",
    "- Stride = 1\n",
    "- Your code **cannot** use pre-exising convolution functions in python such as  *numpy.convolve, scipy.signal.convolve2d, imfilter, conv2, convn, filter2, etc*. You may compare your output to these functions for comparison and debugging.\n",
    "- You need to have the following nested FOR loop structure:\n",
    "    * loop over height\n",
    "    * then loop over width\n",
    "    * finally, do convolution\n",
    "- You will need to handle boundary cases on the edges of the image. \n",
    "- For example, when you place the center of the convolution mask on the top left corner of the image, most of the filter mask will lie outside the image. In this case, pad the image along the borders with zeros using *np.pad*.\n",
    "\n",
    "**Grading**  \n",
    "Your code will be autograded with\n",
    "- hidden images \n",
    "- kernel sizes of (3, 3), (5, 5), (7, 7) \n",
    "- error threshold of 1e-12\n"
   ]
  },
  {
   "cell_type": "code",
   "execution_count": null,
   "metadata": {
    "deletable": false,
    "nbgrader": {
     "cell_type": "code",
     "checksum": "74443b0cadb4c2c0f00944bb6bc9da7b",
     "grade": false,
     "grade_id": "q1_1_code",
     "locked": false,
     "schema_version": 3,
     "solution": true,
     "task": false
    }
   },
   "outputs": [],
   "source": [
    "def filter_image(image, h_filter):\n",
    "    \"\"\"Conduct convolutional filtering on the input image. \n",
    "    This function assumes that the input filter size is an odd number, \n",
    "    Pad the input image with 'constant' padding. \n",
    "\n",
    "    Args:\n",
    "      image: np.array, HxW, the input grayscale image. \n",
    "      h_filter: np.array, KxK where K is the kernel size, the input image filter, created by the Gauss2D function. \n",
    "\n",
    "    Returns:\n",
    "      image_output: np.array, HxW, the filtered image\n",
    "    \"\"\"\n",
    "    start_time = time.time()\n",
    "    row, col = image.shape\n",
    "    h_row, h_col = h_filter.shape\n",
    "    \n",
    "    assert(h_row % 2 == 1 and h_col % 2 == 1)\n",
    "    image = image.astype(np.float64) # uint8 -> float64\n",
    "    image_output = np.empty_like(image) # output\n",
    "\n",
    "    # Computes the row and col of padding needed\n",
    "    row_padding = int(np.floor(h_row/2))\n",
    "    col_padding = int(np.floor(h_col/2))\n",
    "    \n",
    "    # Pad the input image with zeros using the np.pad function. \n",
    "    # After this step, you should be able to perform convolution with the`same` padding scheme\n",
    "    # Refer: https://www.geeksforgeeks.org/types-of-padding-in-convolution-layer/\n",
    "    # image_pad = np.pad(?)\n",
    "    # YOUR CODE HERE\n",
    "    raise NotImplementedError()\n",
    "       \n",
    "    # Perform convolution on the padded image. \n",
    "    for i in range(image.shape[0]):\n",
    "        for j in range(image.shape[1]):\n",
    "            # image_output[i, j] = ?\n",
    "            # YOUR CODE HERE\n",
    "            raise NotImplementedError()\n",
    "    \n",
    "    return image_output\n"
   ]
  },
  {
   "cell_type": "markdown",
   "metadata": {
    "deletable": false,
    "editable": false,
    "nbgrader": {
     "cell_type": "markdown",
     "checksum": "960905fb574afe5a672886e0087d6bff",
     "grade": false,
     "grade_id": "cell-0ea9fb3ae623492b",
     "locked": true,
     "schema_version": 3,
     "solution": false,
     "task": false
    }
   },
   "source": [
    "### Test Q1.1\n"
   ]
  },
  {
   "cell_type": "code",
   "execution_count": null,
   "metadata": {
    "deletable": false,
    "editable": false,
    "nbgrader": {
     "cell_type": "code",
     "checksum": "c2e813639a9a5984f4f6764173457f1c",
     "grade": true,
     "grade_id": "q1_1_test",
     "locked": true,
     "points": 0,
     "schema_version": 3,
     "solution": false,
     "task": false
    }
   },
   "outputs": [],
   "source": [
    "image_idx = np.random.randint(0, len(image_list))\n",
    "visualize(filter_image, image_list[image_idx])\n",
    "error = test(filter_image, image_list[image_idx])\n",
    "print('image_idx:{} error:{}'.format(image_idx, error))"
   ]
  },
  {
   "cell_type": "markdown",
   "metadata": {
    "deletable": false,
    "editable": false,
    "nbgrader": {
     "cell_type": "markdown",
     "checksum": "0cb3b1516f16a312615baf27d1cfe9ab",
     "grade": false,
     "grade_id": "q1_2",
     "locked": true,
     "schema_version": 3,
     "solution": false,
     "task": false
    }
   },
   "source": [
    "### Q1.2 Convolution with Vectorization (5 points)\n",
    "\n",
    "Write a function that does convolution using vectorization.\n",
    "\n",
    "\n",
    "```\n",
    "  def filter_image_vec(image, h_filter):\n",
    "        return image_output\n",
    "```\n",
    "\n",
    "- **Input** and **Output** same as above\n",
    "\n",
    "**Instructions**\n",
    "- All assumptions from before hold! \n",
    "- You can use numpy functions like *np.tile*, *np.dot*\n",
    "- The vectorization schema is shown in the figure\n",
    "- If done correctly, the vectorized convolution should be twice as fast or more than the nested loop convolution.\n",
    "\n",
    "<img align=\"center\" src=\"data/handout/q1_2.png\" width=\"500\">\n",
    "\n",
    "**Grading**  \n",
    "Same as Q1.1"
   ]
  },
  {
   "cell_type": "code",
   "execution_count": null,
   "metadata": {
    "deletable": false,
    "nbgrader": {
     "cell_type": "code",
     "checksum": "6e4704600b5a053afc651cc490b8d388",
     "grade": false,
     "grade_id": "q1_2_code",
     "locked": false,
     "schema_version": 3,
     "solution": true,
     "task": false
    }
   },
   "outputs": [],
   "source": [
    "def filter_image_vec(image, h_filter):\n",
    "    \"\"\"Conduct convolutional filtering using vectorization on the input image\n",
    "\n",
    "    Args:\n",
    "      image: np.array, HxW, the input grayscale image. \n",
    "      h_filter: np.array, KxK where K is the kernel size, the input image filter, created by the Gauss2D function.\n",
    "\n",
    "    Returns:\n",
    "      image_output: np.array, HxW, the filtered image\n",
    "    \"\"\"\n",
    "    row, col = image.shape\n",
    "    h_row, h_col = h_filter.shape\n",
    "    \n",
    "    assert(h_row % 2 == 1 and h_col % 2 == 1)\n",
    "    image = image.astype(np.float64) # uint8 -> float64\n",
    "\n",
    "    # Computes the row and col of padding needed\n",
    "    row_padding = int(np.floor(h_row/2))\n",
    "    col_padding = int(np.floor(h_col/2))\n",
    "    \n",
    "    # Pad the input image with zeros same as before!\n",
    "    # image_pad = np.pad(?)\n",
    "    # YOUR CODE HERE\n",
    "    raise NotImplementedError()\n",
    "    \n",
    "    windows = []\n",
    "    # Perform convolution on the padded image. \n",
    "    for i in range(image.shape[0]):\n",
    "        for j in range(image.shape[1]):\n",
    "            # what is our convolution window in the image?\n",
    "            # window = ?\n",
    "            # YOUR CODE HERE\n",
    "            raise NotImplementedError()\n",
    "            windows.append(window.reshape(-1, 1))\n",
    "    \n",
    "    image_to_convolve = np.concatenate(windows, axis=1)  ## (h_row*h_col) x num_pixels\n",
    "    \n",
    "    # Perform matrix multiplication between the image_to_convolve and h_filter followed by reshape!\n",
    "    # image_filter = ?\n",
    "    # YOUR CODE HERE\n",
    "    raise NotImplementedError()\n",
    "    return image_output"
   ]
  },
  {
   "cell_type": "markdown",
   "metadata": {
    "deletable": false,
    "editable": false,
    "nbgrader": {
     "cell_type": "markdown",
     "checksum": "3c1338875d06c0de3a21dc11905e1521",
     "grade": false,
     "grade_id": "cell-411d842adcefa236",
     "locked": true,
     "schema_version": 3,
     "solution": false,
     "task": false
    }
   },
   "source": [
    "### Test Q1.2"
   ]
  },
  {
   "cell_type": "code",
   "execution_count": null,
   "metadata": {
    "deletable": false,
    "editable": false,
    "nbgrader": {
     "cell_type": "code",
     "checksum": "7fb799245411376ffe2bc99a4033098f",
     "grade": true,
     "grade_id": "q1_2_test",
     "locked": true,
     "points": 0,
     "schema_version": 3,
     "solution": false,
     "task": false
    }
   },
   "outputs": [],
   "source": [
    "image_idx = np.random.randint(0, len(image_list))\n",
    "visualize(filter_image_vec, image_list[image_idx])\n",
    "error = test(filter_image_vec, image_list[image_idx])\n",
    "print('image_idx:{} error:{}'.format(image_idx, error))"
   ]
  },
  {
   "cell_type": "markdown",
   "metadata": {
    "deletable": false,
    "editable": false,
    "nbgrader": {
     "cell_type": "markdown",
     "checksum": "5e746b9547b12aa54e01802c79b2e740",
     "grade": false,
     "grade_id": "cell-517bd00f5ab6956d",
     "locked": true,
     "schema_version": 3,
     "solution": false,
     "task": false
    }
   },
   "source": [
    "### Autograde Q1.1\n",
    "0.5 points per test case, 10 test cases."
   ]
  },
  {
   "cell_type": "code",
   "execution_count": null,
   "metadata": {
    "deletable": false,
    "editable": false,
    "nbgrader": {
     "cell_type": "code",
     "checksum": "8928dfe9c6cf9eece4cbc0e75903b609",
     "grade": true,
     "grade_id": "cell-74aeecb42468e7dd",
     "locked": true,
     "points": 0,
     "schema_version": 3,
     "solution": false,
     "task": false
    }
   },
   "outputs": [],
   "source": []
  },
  {
   "cell_type": "code",
   "execution_count": null,
   "metadata": {
    "deletable": false,
    "editable": false,
    "nbgrader": {
     "cell_type": "code",
     "checksum": "ba0f1862b21707a3eb03fd4258e06a41",
     "grade": true,
     "grade_id": "q1_1_t1",
     "locked": true,
     "points": 0.5,
     "schema_version": 3,
     "solution": false,
     "task": false
    }
   },
   "outputs": [],
   "source": []
  },
  {
   "cell_type": "code",
   "execution_count": null,
   "metadata": {
    "deletable": false,
    "editable": false,
    "nbgrader": {
     "cell_type": "code",
     "checksum": "591af89b19fa59bfe4975feef96499f1",
     "grade": true,
     "grade_id": "q1_1_t2",
     "locked": true,
     "points": 0.5,
     "schema_version": 3,
     "solution": false,
     "task": false
    }
   },
   "outputs": [],
   "source": []
  },
  {
   "cell_type": "code",
   "execution_count": null,
   "metadata": {
    "deletable": false,
    "editable": false,
    "nbgrader": {
     "cell_type": "code",
     "checksum": "b17554cfa4ab0b5e37c508b58f7f0b89",
     "grade": true,
     "grade_id": "q1_1_t3",
     "locked": true,
     "points": 0.5,
     "schema_version": 3,
     "solution": false,
     "task": false
    }
   },
   "outputs": [],
   "source": []
  },
  {
   "cell_type": "code",
   "execution_count": null,
   "metadata": {
    "deletable": false,
    "editable": false,
    "nbgrader": {
     "cell_type": "code",
     "checksum": "b68bcc2a3c3001671b041eafe6756149",
     "grade": true,
     "grade_id": "q1_1_t4",
     "locked": true,
     "points": 0.5,
     "schema_version": 3,
     "solution": false,
     "task": false
    }
   },
   "outputs": [],
   "source": []
  },
  {
   "cell_type": "code",
   "execution_count": null,
   "metadata": {
    "deletable": false,
    "editable": false,
    "nbgrader": {
     "cell_type": "code",
     "checksum": "8e97c096a31650ec2d68faec0b5975ef",
     "grade": true,
     "grade_id": "q1_1_t5",
     "locked": true,
     "points": 0.5,
     "schema_version": 3,
     "solution": false,
     "task": false
    }
   },
   "outputs": [],
   "source": []
  },
  {
   "cell_type": "code",
   "execution_count": null,
   "metadata": {
    "deletable": false,
    "editable": false,
    "nbgrader": {
     "cell_type": "code",
     "checksum": "203d186a5c34b9e42a0e91f74f123ee1",
     "grade": true,
     "grade_id": "q1_1_t6",
     "locked": true,
     "points": 0.5,
     "schema_version": 3,
     "solution": false,
     "task": false
    }
   },
   "outputs": [],
   "source": []
  },
  {
   "cell_type": "code",
   "execution_count": null,
   "metadata": {
    "deletable": false,
    "editable": false,
    "nbgrader": {
     "cell_type": "code",
     "checksum": "767535f8f829ad8b868f014b1d55ead4",
     "grade": true,
     "grade_id": "q1_1_t7",
     "locked": true,
     "points": 0.5,
     "schema_version": 3,
     "solution": false,
     "task": false
    }
   },
   "outputs": [],
   "source": []
  },
  {
   "cell_type": "code",
   "execution_count": null,
   "metadata": {
    "deletable": false,
    "editable": false,
    "nbgrader": {
     "cell_type": "code",
     "checksum": "16cde60226da11e2139c4acc2f9c61f9",
     "grade": true,
     "grade_id": "q1_1_t8",
     "locked": true,
     "points": 0.5,
     "schema_version": 3,
     "solution": false,
     "task": false
    }
   },
   "outputs": [],
   "source": []
  },
  {
   "cell_type": "code",
   "execution_count": null,
   "metadata": {
    "deletable": false,
    "editable": false,
    "nbgrader": {
     "cell_type": "code",
     "checksum": "c7751e5f4289d6032fe38aa472b6087a",
     "grade": true,
     "grade_id": "q1_1_t9",
     "locked": true,
     "points": 0.5,
     "schema_version": 3,
     "solution": false,
     "task": false
    }
   },
   "outputs": [],
   "source": []
  },
  {
   "cell_type": "code",
   "execution_count": null,
   "metadata": {
    "deletable": false,
    "editable": false,
    "nbgrader": {
     "cell_type": "code",
     "checksum": "bd99a495356cc056d149ba74dcbb6a3c",
     "grade": true,
     "grade_id": "q1_1_t10",
     "locked": true,
     "points": 0.5,
     "schema_version": 3,
     "solution": false,
     "task": false
    }
   },
   "outputs": [],
   "source": []
  },
  {
   "cell_type": "markdown",
   "metadata": {
    "deletable": false,
    "editable": false,
    "nbgrader": {
     "cell_type": "markdown",
     "checksum": "8d520149d1d740d4bd4a9ab53808ade5",
     "grade": false,
     "grade_id": "cell-730783b1f3b16ade",
     "locked": true,
     "schema_version": 3,
     "solution": false,
     "task": false
    }
   },
   "source": [
    "### Autograde Q1.2\n",
    "0.5 points per test case, 10 test cases."
   ]
  },
  {
   "cell_type": "code",
   "execution_count": null,
   "metadata": {
    "deletable": false,
    "editable": false,
    "nbgrader": {
     "cell_type": "code",
     "checksum": "30b9ceae4444c5c52b5923b4e0a31d1f",
     "grade": true,
     "grade_id": "q1_2_t1",
     "locked": true,
     "points": 0.5,
     "schema_version": 3,
     "solution": false,
     "task": false
    }
   },
   "outputs": [],
   "source": []
  },
  {
   "cell_type": "code",
   "execution_count": null,
   "metadata": {
    "deletable": false,
    "editable": false,
    "nbgrader": {
     "cell_type": "code",
     "checksum": "15341c767218c56ec1f8bf7aa88fcae8",
     "grade": true,
     "grade_id": "q1_2_t2",
     "locked": true,
     "points": 0.5,
     "schema_version": 3,
     "solution": false,
     "task": false
    }
   },
   "outputs": [],
   "source": []
  },
  {
   "cell_type": "code",
   "execution_count": null,
   "metadata": {
    "deletable": false,
    "editable": false,
    "nbgrader": {
     "cell_type": "code",
     "checksum": "2f23c63aad74536a52d401dbdf2b074f",
     "grade": true,
     "grade_id": "q1_2_t3",
     "locked": true,
     "points": 0.5,
     "schema_version": 3,
     "solution": false,
     "task": false
    }
   },
   "outputs": [],
   "source": []
  },
  {
   "cell_type": "code",
   "execution_count": null,
   "metadata": {
    "deletable": false,
    "editable": false,
    "nbgrader": {
     "cell_type": "code",
     "checksum": "cf0ec75173cfe1fa70cf4013c992d42a",
     "grade": true,
     "grade_id": "q1_2_t4",
     "locked": true,
     "points": 0.5,
     "schema_version": 3,
     "solution": false,
     "task": false
    }
   },
   "outputs": [],
   "source": []
  },
  {
   "cell_type": "code",
   "execution_count": null,
   "metadata": {
    "deletable": false,
    "editable": false,
    "nbgrader": {
     "cell_type": "code",
     "checksum": "d67b9ee93b644205ff8a025c72e6801d",
     "grade": true,
     "grade_id": "q1_2_t5",
     "locked": true,
     "points": 0.5,
     "schema_version": 3,
     "solution": false,
     "task": false
    }
   },
   "outputs": [],
   "source": []
  },
  {
   "cell_type": "code",
   "execution_count": null,
   "metadata": {
    "deletable": false,
    "editable": false,
    "nbgrader": {
     "cell_type": "code",
     "checksum": "d91e9ccbf0a6bb3baa1234420186da4b",
     "grade": true,
     "grade_id": "q1_2_t6",
     "locked": true,
     "points": 0.5,
     "schema_version": 3,
     "solution": false,
     "task": false
    }
   },
   "outputs": [],
   "source": []
  },
  {
   "cell_type": "code",
   "execution_count": null,
   "metadata": {
    "deletable": false,
    "editable": false,
    "nbgrader": {
     "cell_type": "code",
     "checksum": "596dd7d5f19aca1bdf97408dc558af86",
     "grade": true,
     "grade_id": "q1_2_t7",
     "locked": true,
     "points": 0.5,
     "schema_version": 3,
     "solution": false,
     "task": false
    }
   },
   "outputs": [],
   "source": []
  },
  {
   "cell_type": "code",
   "execution_count": null,
   "metadata": {
    "deletable": false,
    "editable": false,
    "nbgrader": {
     "cell_type": "code",
     "checksum": "f156cdd9dd3b1ef62aca92e0edc01897",
     "grade": true,
     "grade_id": "q1_2_t8",
     "locked": true,
     "points": 0.5,
     "schema_version": 3,
     "solution": false,
     "task": false
    }
   },
   "outputs": [],
   "source": []
  },
  {
   "cell_type": "code",
   "execution_count": null,
   "metadata": {
    "deletable": false,
    "editable": false,
    "nbgrader": {
     "cell_type": "code",
     "checksum": "0b8981108c78354d25a46459bef79205",
     "grade": true,
     "grade_id": "q1_2_t9",
     "locked": true,
     "points": 0.5,
     "schema_version": 3,
     "solution": false,
     "task": false
    }
   },
   "outputs": [],
   "source": []
  },
  {
   "cell_type": "code",
   "execution_count": null,
   "metadata": {
    "deletable": false,
    "editable": false,
    "nbgrader": {
     "cell_type": "code",
     "checksum": "203f85435492b7b04059a362b3b7028f",
     "grade": true,
     "grade_id": "q1_2_t10",
     "locked": true,
     "points": 0.5,
     "schema_version": 3,
     "solution": false,
     "task": false
    }
   },
   "outputs": [],
   "source": []
  }
 ],
 "metadata": {
  "kernelspec": {
   "display_name": "Python 3",
   "language": "python",
   "name": "python3"
  },
  "language_info": {
   "codemirror_mode": {
    "name": "ipython",
    "version": 3
   },
   "file_extension": ".py",
   "mimetype": "text/x-python",
   "name": "python",
   "nbconvert_exporter": "python",
   "pygments_lexer": "ipython3",
   "version": "3.8.5"
  },
  "toc": {
   "base_numbering": 1,
   "nav_menu": {},
   "number_sections": true,
   "sideBar": true,
   "skip_h1_title": false,
   "title_cell": "Table of Contents",
   "title_sidebar": "Contents",
   "toc_cell": false,
   "toc_position": {
    "height": "calc(100% - 180px)",
    "left": "10px",
    "top": "150px",
    "width": "384px"
   },
   "toc_section_display": true,
   "toc_window_display": true
  }
 },
 "nbformat": 4,
 "nbformat_minor": 4
}
